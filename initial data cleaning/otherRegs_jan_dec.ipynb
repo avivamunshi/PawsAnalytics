{
 "cells": [
  {
   "cell_type": "code",
   "execution_count": 2,
   "id": "9f934174",
   "metadata": {},
   "outputs": [],
   "source": [
    "import petpy\n",
    "import pandas as pd\n",
    "import numpy as np\n",
    "import random\n",
    "import os"
   ]
  },
  {
   "cell_type": "code",
   "execution_count": 18,
   "id": "21e5d11c",
   "metadata": {},
   "outputs": [],
   "source": [
    "petfinder=petpy.Petfinder(\n",
    "    key='uTe0odJUWZhi3Lv0pyLteRLLJVv9Qv65GTH6zJDEBoEAlmd7kt', \n",
    "    secret='HGN1qte2FpD8TgaL9WtuZF9WDuPUq129RVxUYDR7')"
   ]
  },
  {
   "cell_type": "code",
   "execution_count": 11,
   "id": "a938753a",
   "metadata": {},
   "outputs": [
    {
     "name": "stdout",
     "output_type": "stream",
     "text": [
      "file_loc,  data/other_regs/jan_june/dogs/ND_jan2022.csv\n",
      "file_loc,  data/other_regs/jan_june/dogs/OH_jan2022.csv\n",
      "file_loc,  data/other_regs/jan_june/dogs/SC_jan2022.csv\n",
      "file_loc,  data/other_regs/jan_june/dogs/SD_jan2022.csv\n",
      "file_loc,  data/other_regs/jan_june/dogs/UT_jan2022.csv\n",
      "file_loc,  data/other_regs/jan_june/dogs/VA_jan2022.csv\n",
      "file_loc,  data/other_regs/jan_june/dogs/WI_jan2022.csv\n",
      "file_loc,  data/other_regs/jan_june/dogs/WV_jan2022.csv\n",
      "file_loc,  data/other_regs/jan_june/dogs/WY_jan2022.csv\n"
     ]
    }
   ],
   "source": [
    "# get the list of adoped DOGS for each of the states in the REMAINING regions (NOT the PNW,SOUTH CENTRAL, or NORTHEAST regions)\n",
    "# time period: Jan 1, 2022 - June 30, 2022\n",
    "\n",
    "# issues with nevada and hawaii\n",
    "\n",
    "#remaining regions\n",
    "# states = ['AK', 'AZ', 'CA', 'CO', 'DE', 'FL', 'GA', 'IA', 'IL', 'IN','KS', 'MD', 'MI', 'MN', 'MO', 'MT', 'NE', 'ND', 'OH', 'SC', 'SD', 'UT', 'VA', 'WI', 'WV', 'WY']\n",
    "\n",
    "\n",
    "for state in states:\n",
    "    dogs_state=petfinder.animals(animal_type='dog',\n",
    "                  status='adopted',\n",
    "                  before_date='2022-06-30', \n",
    "                  after_date='2022-01-01',\n",
    "                  location=state,\n",
    "                  pages=None,\n",
    "                  return_df=True)\n",
    "    file_loc = \"data/other_regs/jan_june/dogs/\"+state+\"_jan2022.csv\"\n",
    "    print(\"file_loc, \", file_loc)\n",
    "    dogs_state.to_csv(file_loc)"
   ]
  },
  {
   "cell_type": "code",
   "execution_count": 15,
   "id": "d4c88b75",
   "metadata": {},
   "outputs": [
    {
     "name": "stdout",
     "output_type": "stream",
     "text": [
      "file_loc,  data/other_regs/jul_dec/dogs/GA_july2022.csv\n",
      "file_loc,  data/other_regs/jul_dec/dogs/IA_july2022.csv\n",
      "file_loc,  data/other_regs/jul_dec/dogs/IL_july2022.csv\n",
      "file_loc,  data/other_regs/jul_dec/dogs/IN_july2022.csv\n",
      "file_loc,  data/other_regs/jul_dec/dogs/KS_july2022.csv\n",
      "file_loc,  data/other_regs/jul_dec/dogs/MD_july2022.csv\n",
      "file_loc,  data/other_regs/jul_dec/dogs/MI_july2022.csv\n",
      "file_loc,  data/other_regs/jul_dec/dogs/MN_july2022.csv\n",
      "file_loc,  data/other_regs/jul_dec/dogs/MO_july2022.csv\n",
      "file_loc,  data/other_regs/jul_dec/dogs/MT_july2022.csv\n",
      "file_loc,  data/other_regs/jul_dec/dogs/NE_july2022.csv\n",
      "file_loc,  data/other_regs/jul_dec/dogs/ND_july2022.csv\n",
      "file_loc,  data/other_regs/jul_dec/dogs/OH_july2022.csv\n",
      "file_loc,  data/other_regs/jul_dec/dogs/SC_july2022.csv\n",
      "file_loc,  data/other_regs/jul_dec/dogs/SD_july2022.csv\n",
      "file_loc,  data/other_regs/jul_dec/dogs/UT_july2022.csv\n",
      "file_loc,  data/other_regs/jul_dec/dogs/VA_july2022.csv\n",
      "file_loc,  data/other_regs/jul_dec/dogs/WI_july2022.csv\n",
      "file_loc,  data/other_regs/jul_dec/dogs/WV_july2022.csv\n",
      "file_loc,  data/other_regs/jul_dec/dogs/WY_july2022.csv\n"
     ]
    }
   ],
   "source": [
    "# get the list of adoped DOGS for each of the states in the REMAINING regions (NOT the PNW,SOUTH CENTRAL, or NORTHEAST regions)\n",
    "# time period: July 1, 2022 - December 31, 2022\n",
    "\n",
    "# issues with nevada and hawaii\n",
    "\n",
    "#remaining regions\n",
    "#states = ['AK', 'AZ', 'CA', 'CO', 'DE', 'FL', 'GA', 'IA', 'IL', 'IN','KS', 'MD', 'MI', 'MN', 'MO', 'MT', 'NE', 'ND', 'OH', 'SC', 'SD', 'UT', 'VA', 'WI', 'WV', 'WY']\n",
    "\n",
    "states = ['GA', 'IA', 'IL', 'IN','KS', 'MD', 'MI', 'MN', 'MO', 'MT', 'NE', 'ND', 'OH', 'SC', 'SD', 'UT', 'VA', 'WI', 'WV', 'WY']\n",
    "\n",
    "for state in states:\n",
    "    dogs_state=petfinder.animals(animal_type='dog',\n",
    "                  status='adopted',\n",
    "                  before_date='2022-12-31', \n",
    "                  after_date='2022-07-01',\n",
    "                  location=state,\n",
    "                  pages=None,\n",
    "                  return_df=True)\n",
    "    file_loc = \"data/other_regs/jul_dec/dogs/\"+state+\"_july2022.csv\"\n",
    "    print(\"file_loc, \", file_loc)\n",
    "    dogs_state.to_csv(file_loc)"
   ]
  },
  {
   "cell_type": "code",
   "execution_count": 12,
   "id": "2865be45",
   "metadata": {},
   "outputs": [
    {
     "name": "stdout",
     "output_type": "stream",
     "text": [
      "file_loc,  data/other_regs/jan_june/cats/AK_jan2022.csv\n",
      "file_loc,  data/other_regs/jan_june/cats/AZ_jan2022.csv\n",
      "file_loc,  data/other_regs/jan_june/cats/CA_jan2022.csv\n",
      "file_loc,  data/other_regs/jan_june/cats/CO_jan2022.csv\n",
      "file_loc,  data/other_regs/jan_june/cats/DE_jan2022.csv\n",
      "file_loc,  data/other_regs/jan_june/cats/FL_jan2022.csv\n",
      "file_loc,  data/other_regs/jan_june/cats/GA_jan2022.csv\n",
      "file_loc,  data/other_regs/jan_june/cats/IA_jan2022.csv\n",
      "file_loc,  data/other_regs/jan_june/cats/IL_jan2022.csv\n",
      "file_loc,  data/other_regs/jan_june/cats/IN_jan2022.csv\n",
      "file_loc,  data/other_regs/jan_june/cats/KS_jan2022.csv\n",
      "file_loc,  data/other_regs/jan_june/cats/MD_jan2022.csv\n",
      "file_loc,  data/other_regs/jan_june/cats/MI_jan2022.csv\n",
      "file_loc,  data/other_regs/jan_june/cats/MN_jan2022.csv\n",
      "file_loc,  data/other_regs/jan_june/cats/MO_jan2022.csv\n",
      "file_loc,  data/other_regs/jan_june/cats/MT_jan2022.csv\n",
      "file_loc,  data/other_regs/jan_june/cats/NE_jan2022.csv\n",
      "file_loc,  data/other_regs/jan_june/cats/ND_jan2022.csv\n",
      "file_loc,  data/other_regs/jan_june/cats/OH_jan2022.csv\n",
      "file_loc,  data/other_regs/jan_june/cats/SC_jan2022.csv\n",
      "file_loc,  data/other_regs/jan_june/cats/SD_jan2022.csv\n",
      "file_loc,  data/other_regs/jan_june/cats/UT_jan2022.csv\n",
      "file_loc,  data/other_regs/jan_june/cats/VA_jan2022.csv\n",
      "file_loc,  data/other_regs/jan_june/cats/WI_jan2022.csv\n",
      "file_loc,  data/other_regs/jan_june/cats/WV_jan2022.csv\n",
      "file_loc,  data/other_regs/jan_june/cats/WY_jan2022.csv\n"
     ]
    }
   ],
   "source": [
    "# get the list of adoped CATS for each of the states in the PNW and NORTHEAST regions\n",
    "# time period: Jan 1, 2022 - June 30, 2022\n",
    "\n",
    "#pnw and northeast regions\n",
    "states = ['AK', 'AZ', 'CA', 'CO', 'DE', 'FL', 'GA', 'IA', 'IL', 'IN','KS', 'MD', 'MI', 'MN', 'MO', 'MT', 'NE', 'ND', 'OH', 'SC', 'SD', 'UT', 'VA', 'WI', 'WV', 'WY']\n",
    "\n",
    "for state in states:\n",
    "    cats_state=petfinder.animals(animal_type='cat',\n",
    "                  status='adopted',\n",
    "                  before_date='2022-06-30', \n",
    "                  after_date='2022-01-01',\n",
    "                  location=state,\n",
    "                  pages=None,\n",
    "                  return_df=True)\n",
    "    file_loc = \"data/other_regs/jan_june/cats/\"+state+\"_jan2022.csv\"\n",
    "    print(\"file_loc, \", file_loc)\n",
    "    cats_state.to_csv(file_loc)"
   ]
  },
  {
   "cell_type": "code",
   "execution_count": 19,
   "id": "86abf447",
   "metadata": {},
   "outputs": [
    {
     "name": "stdout",
     "output_type": "stream",
     "text": [
      "file_loc,  data/other_regs/jul_dec/cats/SC_july2022.csv\n",
      "file_loc,  data/other_regs/jul_dec/cats/SD_july2022.csv\n",
      "file_loc,  data/other_regs/jul_dec/cats/UT_july2022.csv\n",
      "file_loc,  data/other_regs/jul_dec/cats/VA_july2022.csv\n",
      "file_loc,  data/other_regs/jul_dec/cats/WI_july2022.csv\n",
      "file_loc,  data/other_regs/jul_dec/cats/WV_july2022.csv\n",
      "file_loc,  data/other_regs/jul_dec/cats/WY_july2022.csv\n"
     ]
    }
   ],
   "source": [
    "# get the list of adoped CATS for each of the states in the PNW and NORTHEAST regions\n",
    "# time period: July 1, 2022 - December 31, 2022\n",
    "\n",
    "#pnw and northeast regions\n",
    "#states = ['AK', 'AZ', 'CA', 'CO', 'DE', 'FL', 'GA', 'IA', 'IL', 'IN','KS', 'MD', 'MI', 'MN', 'MO', 'MT', 'NE', 'ND', 'OH', 'SC', 'SD', 'UT', 'VA', 'WI', 'WV', 'WY']\n",
    "\n",
    "states = ['SC', 'SD', 'UT', 'VA', 'WI', 'WV', 'WY']\n",
    "\n",
    "for state in states:\n",
    "    cats_state=petfinder.animals(animal_type='cat',\n",
    "                  status='adopted',\n",
    "                  before_date='2022-12-31', \n",
    "                  after_date='2022-07-01',\n",
    "                  location=state,\n",
    "                  pages=None,\n",
    "                  return_df=True)\n",
    "    file_loc = \"data/other_regs/jul_dec/cats/\"+state+\"_july2022.csv\"\n",
    "    print(\"file_loc, \", file_loc)\n",
    "    cats_state.to_csv(file_loc)"
   ]
  },
  {
   "cell_type": "code",
   "execution_count": 22,
   "id": "4246f25d",
   "metadata": {},
   "outputs": [
    {
     "name": "stdout",
     "output_type": "stream",
     "text": [
      "file:  IN_jan2022.csv\n",
      "file:  KS_jan2022.csv\n",
      "file:  CA_jan2022.csv\n",
      "file:  MI_jan2022.csv\n",
      "file:  VA_jan2022.csv\n",
      "file:  AZ_jan2022.csv\n",
      "file:  IA_jan2022.csv\n",
      "file:  FL_jan2022.csv\n",
      "file:  SC_jan2022.csv\n",
      "file:  ND_jan2022.csv\n",
      "file:  OH_jan2022.csv\n",
      "file:  MO_jan2022.csv\n",
      "file:  SD_jan2022.csv\n",
      "file:  WY_jan2022.csv\n",
      "file:  DE_jan2022.csv\n",
      "file:  AK_jan2022.csv\n",
      "file:  MD_jan2022.csv\n",
      "file:  WI_jan2022.csv\n",
      "file:  MN_jan2022.csv\n",
      "file:  WV_jan2022.csv\n",
      "file:  IL_jan2022.csv\n",
      "file:  CO_jan2022.csv\n",
      "file:  NE_jan2022.csv\n",
      "file:  GA_jan2022.csv\n",
      "file:  UT_jan2022.csv\n",
      "file:  MT_jan2022.csv\n",
      "(54812, 51)\n",
      "file:  FL_july2022.csv\n",
      "file:  MD_july2022.csv\n",
      "file:  NE_july2022.csv\n",
      "file:  CO_july2022.csv\n",
      "file:  AK_july2022.csv\n",
      "file:  ND_july2022.csv\n",
      "file:  KS_july2022.csv\n",
      "file:  MO_july2022.csv\n",
      "file:  DE_july2022.csv\n",
      "file:  MI_july2022.csv\n",
      "file:  MN_july2022.csv\n",
      "file:  IN_july2022.csv\n",
      "file:  WY_july2022.csv\n",
      "file:  MT_july2022.csv\n",
      "file:  VA_july2022.csv\n",
      "file:  SD_july2022.csv\n",
      "file:  OH_july2022.csv\n",
      "file:  SC_july2022.csv\n",
      "file:  GA_july2022.csv\n",
      "file:  AZ_july2022.csv\n",
      "file:  CA_july2022.csv\n",
      "file:  IL_july2022.csv\n",
      "file:  UT_july2022.csv\n",
      "file:  WV_july2022.csv\n",
      "file:  IA_july2022.csv\n",
      "file:  WI_july2022.csv\n",
      "(117507, 51)\n"
     ]
    }
   ],
   "source": [
    "# Combine all the DOG csvs for each individual state into one csv\n",
    "\n",
    "# specify the directory path\n",
    "dir_path = \"data/other_regs/jan_june/dogs\"\n",
    "\n",
    "# get a list of files in the directory\n",
    "files = os.listdir(dir_path)\n",
    "\n",
    "dogs_combined_df = pd.DataFrame()\n",
    "\n",
    "# for each file in the directory, create a temporary dataframe and concat it to the dogs_combined_df\n",
    "for file in files:\n",
    "    print('file: ', file)\n",
    "    file_loc = dir_path + \"/\" + file\n",
    "    df = pd.read_csv(file_loc)\n",
    "    dogs_combined_df = pd.concat([dogs_combined_df, df])\n",
    "\n",
    "print(dogs_combined_df.shape)\n",
    "\n",
    "# specify the directory path\n",
    "dir_path_2 = \"data/other_regs/jul_dec/dogs\"\n",
    "\n",
    "# get a list of files in the directory\n",
    "files = os.listdir(dir_path_2)\n",
    "\n",
    "# for each file in the directory, create a temporary dataframe and concat it to the dogs_combined_df\n",
    "for file in files:\n",
    "    print('file: ', file)\n",
    "    file_loc = dir_path_2 + \"/\" + file\n",
    "    df = pd.read_csv(file_loc)\n",
    "    dogs_combined_df = pd.concat([dogs_combined_df, df])\n",
    "\n",
    "print(dogs_combined_df.shape)\n",
    "\n",
    "# write the combined df to a csv file\n",
    "dogs_combined_df.to_csv(\"data/combined/otherRegions_jantodec_adopted_dogs.csv\")\n"
   ]
  },
  {
   "cell_type": "code",
   "execution_count": 24,
   "id": "38ad5fa6",
   "metadata": {},
   "outputs": [
    {
     "name": "stdout",
     "output_type": "stream",
     "text": [
      "file:  IN_jan2022.csv\n",
      "file:  KS_jan2022.csv\n",
      "file:  CA_jan2022.csv\n",
      "file:  MI_jan2022.csv\n",
      "file:  VA_jan2022.csv\n",
      "file:  AZ_jan2022.csv\n",
      "file:  IA_jan2022.csv\n",
      "file:  FL_jan2022.csv\n",
      "file:  SC_jan2022.csv\n",
      "file:  ND_jan2022.csv\n",
      "file:  OH_jan2022.csv\n",
      "file:  MO_jan2022.csv\n",
      "file:  SD_jan2022.csv\n",
      "file:  WY_jan2022.csv\n",
      "file:  DE_jan2022.csv\n",
      "file:  AK_jan2022.csv\n",
      "file:  MD_jan2022.csv\n",
      "file:  WI_jan2022.csv\n",
      "file:  MN_jan2022.csv\n",
      "file:  WV_jan2022.csv\n",
      "file:  IL_jan2022.csv\n",
      "file:  CO_jan2022.csv\n",
      "file:  NE_jan2022.csv\n",
      "file:  GA_jan2022.csv\n",
      "file:  UT_jan2022.csv\n",
      "file:  MT_jan2022.csv\n",
      "(39527, 51)\n",
      "(102163, 51)\n"
     ]
    }
   ],
   "source": [
    "# Combine all the CAT csvs for each individual state into one csv\n",
    "\n",
    "# specify the directory path\n",
    "dir_path = \"data/other_regs/jan_june/cats\"\n",
    "\n",
    "# get a list of files in the directory\n",
    "files = os.listdir(dir_path)\n",
    "\n",
    "cats_combined_df = pd.DataFrame()\n",
    "\n",
    "# for each file in the directory, create a temporary dataframe and concat it to the cats_combined_df\n",
    "for file in files:\n",
    "    print('file: ', file)\n",
    "    file_loc = dir_path + \"/\" + file\n",
    "    df = pd.read_csv(file_loc)\n",
    "    cats_combined_df = pd.concat([cats_combined_df, df])\n",
    "\n",
    "print(cats_combined_df.shape)\n",
    "\n",
    "\n",
    "# specify the directory path\n",
    "dir_path_2 = \"data/other_regs/jul_dec/cats\"\n",
    "\n",
    "# get a list of files in the directory\n",
    "files = os.listdir(dir_path_2)\n",
    "\n",
    "# for each file in the directory, create a temporary dataframe and concat it to the cats_combined_df\n",
    "for file in files:\n",
    "    #print('file: ', file)\n",
    "    file_loc = dir_path_2 + \"/\" + file\n",
    "    df = pd.read_csv(file_loc)\n",
    "    cats_combined_df = pd.concat([cats_combined_df, df])\n",
    "\n",
    "print(cats_combined_df.shape)\n",
    "\n",
    "# write the combined df to a csv file\n",
    "cats_combined_df.to_csv(\"data/combined/otherRegs_jantodec_adopted_cats.csv\")\n"
   ]
  },
  {
   "cell_type": "code",
   "execution_count": 26,
   "id": "9cf15027",
   "metadata": {},
   "outputs": [],
   "source": [
    "dogs_3regs = pd.read_csv('data/combined/otherRegions_jantodec_adopted_dogs.csv')\n",
    "cats_3regs = pd.read_csv(\"data/combined/otherRegs_jantodec_adopted_cats.csv\")"
   ]
  },
  {
   "cell_type": "code",
   "execution_count": 30,
   "id": "cad05df3",
   "metadata": {},
   "outputs": [
    {
     "name": "stdout",
     "output_type": "stream",
     "text": [
      "Index(['Unnamed: 0.1', 'Unnamed: 0', 'id', 'organization_id', 'url', 'type',\n",
      "       'species', 'age', 'gender', 'size', 'coat', 'tags', 'name',\n",
      "       'description', 'organization_animal_id', 'photos', 'videos', 'status',\n",
      "       'status_changed_at', 'published_at', 'distance', 'breeds.primary',\n",
      "       'breeds.secondary', 'breeds.mixed', 'breeds.unknown', 'colors.primary',\n",
      "       'colors.secondary', 'colors.tertiary', 'attributes.spayed_neutered',\n",
      "       'attributes.house_trained', 'attributes.declawed',\n",
      "       'attributes.special_needs', 'attributes.shots_current',\n",
      "       'environment.children', 'environment.dogs', 'environment.cats',\n",
      "       'primary_photo_cropped.small', 'primary_photo_cropped.medium',\n",
      "       'primary_photo_cropped.large', 'primary_photo_cropped.full',\n",
      "       'contact.email', 'contact.phone', 'contact.address.address1',\n",
      "       'contact.address.address2', 'contact.address.city',\n",
      "       'contact.address.state', 'contact.address.postcode',\n",
      "       'contact.address.country', 'animal_id', 'animal_type',\n",
      "       'organization_id.1', 'primary_photo_cropped'],\n",
      "      dtype='object')\n",
      "   Unnamed: 0.1  Unnamed: 0        id organization_id  \\\n",
      "0             0           0  56122508           MS186   \n",
      "1             1           1  56100297           MS186   \n",
      "2             2           2  56100083           MS186   \n",
      "3             3           3  56099966           MS186   \n",
      "\n",
      "                                                 url type species    age  \\\n",
      "0  https://www.petfinder.com/dog/faith-56122508/m...  Dog     Dog  Adult   \n",
      "1  https://www.petfinder.com/dog/maude-56100297/m...  Dog     Dog  Adult   \n",
      "2  https://www.petfinder.com/dog/sheldon-56100083...  Dog     Dog   Baby   \n",
      "3  https://www.petfinder.com/dog/farrah-56099966/...  Dog     Dog  Young   \n",
      "\n",
      "   gender    size  ... contact.address.address1 contact.address.address2  \\\n",
      "0  Female   Large  ...           1507 Reid Road                      NaN   \n",
      "1  Female   Large  ...           1507 Reid Road                      NaN   \n",
      "2    Male  Medium  ...           1507 Reid Road                      NaN   \n",
      "3  Female   Large  ...           1507 Reid Road                      NaN   \n",
      "\n",
      "  contact.address.city contact.address.state contact.address.postcode  \\\n",
      "0           Monticello                    MS                    39654   \n",
      "1           Monticello                    MS                    39654   \n",
      "2           Monticello                    MS                    39654   \n",
      "3           Monticello                    MS                    39654   \n",
      "\n",
      "  contact.address.country animal_id animal_type organization_id.1  \\\n",
      "0                      US  56122508         dog             ms186   \n",
      "1                      US  56100297         dog             ms186   \n",
      "2                      US  56100083         dog             ms186   \n",
      "3                      US  56099966         dog             ms186   \n",
      "\n",
      "  primary_photo_cropped  \n",
      "0                   NaN  \n",
      "1                   NaN  \n",
      "2                   NaN  \n",
      "3                   NaN  \n",
      "\n",
      "[4 rows x 52 columns]\n"
     ]
    }
   ],
   "source": [
    "print(dogs_3regs.columns)\n",
    "print(dogs_3regs.head(4))"
   ]
  },
  {
   "cell_type": "code",
   "execution_count": 27,
   "id": "36a253bf",
   "metadata": {},
   "outputs": [
    {
     "name": "stdout",
     "output_type": "stream",
     "text": [
      "(117507, 52)\n",
      "(102163, 52)\n"
     ]
    }
   ],
   "source": [
    "print(dogs_3regs.shape)\n",
    "print(cats_3regs.shape)"
   ]
  },
  {
   "cell_type": "code",
   "execution_count": 28,
   "id": "157d9939",
   "metadata": {},
   "outputs": [],
   "source": [
    "dogs_3regs.drop_duplicates(subset=['id'], inplace=True)\n",
    "cats_3regs.drop_duplicates(subset=['id'], inplace=True)"
   ]
  },
  {
   "cell_type": "code",
   "execution_count": 29,
   "id": "02e27e1b",
   "metadata": {},
   "outputs": [
    {
     "name": "stdout",
     "output_type": "stream",
     "text": [
      "dogs_3regs_shape (99652, 52)\n",
      "cats_3regs_shape (87313, 52)\n"
     ]
    }
   ],
   "source": [
    "print(\"dogs_3regs_shape\", dogs_3regs.shape)\n",
    "print(\"cats_3regs_shape\", cats_3regs.shape)"
   ]
  },
  {
   "cell_type": "code",
   "execution_count": 30,
   "id": "c162e943",
   "metadata": {},
   "outputs": [],
   "source": [
    "df_3regs = pd.concat([dogs_3regs, cats_3regs])"
   ]
  },
  {
   "cell_type": "code",
   "execution_count": 31,
   "id": "42a05dc7",
   "metadata": {},
   "outputs": [
    {
     "name": "stdout",
     "output_type": "stream",
     "text": [
      "(186965, 52)\n"
     ]
    }
   ],
   "source": [
    "print(df_3regs.shape)"
   ]
  },
  {
   "cell_type": "code",
   "execution_count": 32,
   "id": "04f5f82e",
   "metadata": {},
   "outputs": [],
   "source": [
    "df_3regs['published_at']=pd.to_datetime(df_3regs['published_at'])\n",
    "df_3regs['status_changed_at']=pd.to_datetime(df_3regs['status_changed_at'])"
   ]
  },
  {
   "cell_type": "code",
   "execution_count": 33,
   "id": "62565b32",
   "metadata": {},
   "outputs": [],
   "source": [
    "df_3regs['days_in_shelter']=df_3regs['status_changed_at']-df_3regs['published_at']\n",
    "df_3regs['days_in_shelter']=df_3regs['days_in_shelter']/np.timedelta64(1,'D')\n",
    "df_3regs['days_in_shelter']=df_3regs['days_in_shelter'].round()"
   ]
  },
  {
   "cell_type": "code",
   "execution_count": 34,
   "id": "b7195f96",
   "metadata": {},
   "outputs": [
    {
     "data": {
      "text/plain": [
       "Index(['Unnamed: 0.1', 'Unnamed: 0', 'id', 'organization_id', 'url', 'type',\n",
       "       'species', 'age', 'gender', 'size', 'coat', 'tags', 'name',\n",
       "       'description', 'organization_animal_id', 'photos', 'videos', 'status',\n",
       "       'status_changed_at', 'published_at', 'distance', 'breeds.primary',\n",
       "       'breeds.secondary', 'breeds.mixed', 'breeds.unknown', 'colors.primary',\n",
       "       'colors.secondary', 'colors.tertiary', 'attributes.spayed_neutered',\n",
       "       'attributes.house_trained', 'attributes.declawed',\n",
       "       'attributes.special_needs', 'attributes.shots_current',\n",
       "       'environment.children', 'environment.dogs', 'environment.cats',\n",
       "       'primary_photo_cropped.small', 'primary_photo_cropped.medium',\n",
       "       'primary_photo_cropped.large', 'primary_photo_cropped.full',\n",
       "       'contact.email', 'contact.phone', 'contact.address.address1',\n",
       "       'contact.address.address2', 'contact.address.city',\n",
       "       'contact.address.state', 'contact.address.postcode',\n",
       "       'contact.address.country', 'animal_id', 'animal_type',\n",
       "       'organization_id.1', 'primary_photo_cropped', 'days_in_shelter'],\n",
       "      dtype='object')"
      ]
     },
     "execution_count": 34,
     "metadata": {},
     "output_type": "execute_result"
    }
   ],
   "source": [
    "df_3regs.columns"
   ]
  },
  {
   "cell_type": "code",
   "execution_count": 35,
   "id": "29d6d7b4",
   "metadata": {},
   "outputs": [],
   "source": [
    "df_3regs['breed'] = ''\n",
    "# Extract primary and secondary breed from 'breeds' column\n",
    "for i, row in df_3regs.iterrows():\n",
    "    primary_breed = row['breeds.primary']\n",
    "    secondary_breed = row['breeds.secondary']\n",
    "    mixed = row['breeds.mixed']\n",
    "    unknown_breed = row['breeds.unknown']\n",
    "    \n",
    "    if mixed:\n",
    "        df_3regs.at[i, 'breed'] = 'Mixed'\n",
    "    elif pd.notna(primary_breed):\n",
    "        df_3regs.at[i, 'breed'] = primary_breed\n",
    "    elif pd.notna(unknown_breed):\n",
    "        df_3regs.at[i, 'breed'] = unknown_breed\n",
    "    elif pd.notna(secondary_breed):\n",
    "        df_3regs.at[i, 'breed'] = secondary_breed\n",
    "    else:\n",
    "        df_3regs.at[i, 'breed'] = 'Unknown'"
   ]
  },
  {
   "cell_type": "code",
   "execution_count": 36,
   "id": "8dd1a4ac",
   "metadata": {},
   "outputs": [
    {
     "data": {
      "text/plain": [
       "(186965, 54)"
      ]
     },
     "execution_count": 36,
     "metadata": {},
     "output_type": "execute_result"
    }
   ],
   "source": [
    "df_3regs.shape"
   ]
  },
  {
   "cell_type": "code",
   "execution_count": 37,
   "id": "bfae97e4",
   "metadata": {},
   "outputs": [],
   "source": [
    "# Select relevant columns\n",
    "df_3regs = df_3regs[['id', 'type', 'species', 'age', 'gender', 'size', 'coat', 'tags', 'name', 'description', 'status', \n",
    "         'published_at', 'status_changed_at', 'days_in_shelter', 'breed',\n",
    "         'colors.primary', 'attributes.spayed_neutered', 'attributes.house_trained', 'attributes.special_needs', \n",
    "         'attributes.shots_current', 'environment.dogs', 'contact.address.city',\n",
    "       'contact.address.state', 'contact.address.postcode',\n",
    "       'contact.address.country']]"
   ]
  },
  {
   "cell_type": "code",
   "execution_count": 39,
   "id": "1c360044",
   "metadata": {},
   "outputs": [],
   "source": [
    "df_3regs.to_csv('data/combined/OtherRegions_jantodec_adopted_dogsANDcats.csv', index=False)\n",
    "\n",
    "# saved to google drive"
   ]
  },
  {
   "cell_type": "code",
   "execution_count": 40,
   "id": "d1373ca4",
   "metadata": {},
   "outputs": [
    {
     "name": "stderr",
     "output_type": "stream",
     "text": [
      "/var/folders/js/_m5r698x29j4dvr0w18h6jdm0000gn/T/ipykernel_31419/2447631148.py:1: DtypeWarning: Columns (23) have mixed types. Specify dtype option on import or set low_memory=False.\n",
      "  df_3regions = pd.read_csv(\"data/combined/jantodec_3regs_adopted_dogsANDcats.csv\")\n"
     ]
    }
   ],
   "source": [
    "df_3regions = pd.read_csv(\"data/combined/jantodec_3regs_adopted_dogsANDcats.csv\")\n",
    "df_other = pd.read_csv(\"data/combined/OtherRegions_jantodec_adopted_dogsANDcats.csv\")"
   ]
  },
  {
   "cell_type": "code",
   "execution_count": 41,
   "id": "8f61569a",
   "metadata": {},
   "outputs": [
    {
     "name": "stdout",
     "output_type": "stream",
     "text": [
      "(185869, 25)\n",
      "(186965, 25)\n"
     ]
    }
   ],
   "source": [
    "print(df_3regions.shape)\n",
    "print(df_other.shape)"
   ]
  },
  {
   "cell_type": "code",
   "execution_count": 42,
   "id": "83fb8134",
   "metadata": {},
   "outputs": [
    {
     "name": "stdout",
     "output_type": "stream",
     "text": [
      "(372834, 25)\n"
     ]
    }
   ],
   "source": [
    "us_minusNVHI = pd.concat([df_3regions, df_other])\n",
    "print(us_minusNVHI.shape)"
   ]
  },
  {
   "cell_type": "code",
   "execution_count": 43,
   "id": "f732ba44",
   "metadata": {},
   "outputs": [],
   "source": [
    "us_minusNVHI.to_csv('data/combined/us_minusNVHI_jantodec_adopted_dogsANDcats.csv', index=False)\n",
    "# saved to google drive"
   ]
  }
 ],
 "metadata": {
  "kernelspec": {
   "display_name": "Python 3",
   "language": "python",
   "name": "python3"
  },
  "language_info": {
   "codemirror_mode": {
    "name": "ipython",
    "version": 3
   },
   "file_extension": ".py",
   "mimetype": "text/x-python",
   "name": "python",
   "nbconvert_exporter": "python",
   "pygments_lexer": "ipython3",
   "version": "3.9.16"
  },
  "vscode": {
   "interpreter": {
    "hash": "d1f6d7dbbb8ff6a3fa93df58af2be11c93ee304f1dc26260daecb46f4fb247fe"
   }
  }
 },
 "nbformat": 4,
 "nbformat_minor": 5
}
