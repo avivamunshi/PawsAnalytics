{
 "cells": [
  {
   "cell_type": "code",
   "execution_count": 3,
   "metadata": {},
   "outputs": [],
   "source": [
    "import petpy\n",
    "import pandas as pd\n",
    "import numpy as np"
   ]
  },
  {
   "cell_type": "code",
   "execution_count": 4,
   "metadata": {},
   "outputs": [],
   "source": [
    "petfinder=petpy.Petfinder(\n",
    "    key='uiU3XvTvaGnfb5dGMBi1iYFkRSifjfWyfKvLrs47gPpjBcChlH', \n",
    "    secret='PI43Po3wZrV2RGLM6zF6iky8l8VrHv706qAXGPVq')"
   ]
  },
  {
   "cell_type": "code",
   "execution_count": 6,
   "metadata": {},
   "outputs": [
    {
     "name": "stdout",
     "output_type": "stream",
     "text": [
      "file_loc,  rq1WA_2years.csv\n",
      "file_loc,  rq1TX_2years.csv\n"
     ]
    }
   ],
   "source": [
    "states = [\"WA\", \"TX\"]\n",
    "\n",
    "for state in states:\n",
    "    dogs_state=petfinder.animals(animal_type='dog',\n",
    "                  status='adopted',\n",
    "                  before_date='2022-12-31', \n",
    "                  after_date='2021-01-01',\n",
    "                  location=state,\n",
    "                  pages=None,\n",
    "                  return_df=True)\n",
    "    file_loc = \"rq1\"+state+\"_2years.csv\"\n",
    "    print(\"file_loc, \", file_loc)\n",
    "    dogs_state.to_csv(file_loc)"
   ]
  },
  {
   "cell_type": "code",
   "execution_count": 5,
   "metadata": {},
   "outputs": [
    {
     "name": "stdout",
     "output_type": "stream",
     "text": [
      "file_loc,  rq1WA_cats_2years.csv\n",
      "file_loc,  rq1TX_cats_2years.csv\n"
     ]
    }
   ],
   "source": [
    "states = [\"WA\", \"TX\"]\n",
    "\n",
    "for state in states:\n",
    "    dogs_state=petfinder.animals(animal_type='cat',\n",
    "                  status='adopted',\n",
    "                  before_date='2022-12-31', \n",
    "                  after_date='2021-01-01',\n",
    "                  location=state,\n",
    "                  pages=None,\n",
    "                  return_df=True)\n",
    "    file_loc = \"rq1\"+state+\"_cats_2years.csv\"\n",
    "    print(\"file_loc, \", file_loc)\n",
    "    dogs_state.to_csv(file_loc)"
   ]
  }
 ],
 "metadata": {
  "kernelspec": {
   "display_name": "Python 3",
   "language": "python",
   "name": "python3"
  },
  "language_info": {
   "codemirror_mode": {
    "name": "ipython",
    "version": 3
   },
   "file_extension": ".py",
   "mimetype": "text/x-python",
   "name": "python",
   "nbconvert_exporter": "python",
   "pygments_lexer": "ipython3",
   "version": "3.9.16"
  },
  "orig_nbformat": 4,
  "vscode": {
   "interpreter": {
    "hash": "d1f6d7dbbb8ff6a3fa93df58af2be11c93ee304f1dc26260daecb46f4fb247fe"
   }
  }
 },
 "nbformat": 4,
 "nbformat_minor": 2
}
