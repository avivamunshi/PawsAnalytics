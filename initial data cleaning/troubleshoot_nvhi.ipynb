{
 "cells": [
  {
   "cell_type": "code",
   "execution_count": 1,
   "id": "9f934174",
   "metadata": {},
   "outputs": [],
   "source": [
    "import petpy\n",
    "import pandas as pd\n",
    "import numpy as np\n",
    "import random\n",
    "import os"
   ]
  },
  {
   "cell_type": "code",
   "execution_count": 2,
   "id": "21e5d11c",
   "metadata": {},
   "outputs": [],
   "source": [
    "petfinder=petpy.Petfinder(\n",
    "    key='uTe0odJUWZhi3Lv0pyLteRLLJVv9Qv65GTH6zJDEBoEAlmd7kt', \n",
    "    secret='HGN1qte2FpD8TgaL9WtuZF9WDuPUq129RVxUYDR7')"
   ]
  },
  {
   "cell_type": "code",
   "execution_count": 11,
   "id": "a938753a",
   "metadata": {},
   "outputs": [
    {
     "name": "stdout",
     "output_type": "stream",
     "text": [
      "file_loc,  data/other_regs/cats_HI_jantodec2022.csv\n"
     ]
    }
   ],
   "source": [
    "# get the list of adoped DOGS for each of the states in the REMAINING regions (NOT the PNW,SOUTH CENTRAL, or NORTHEAST regions)\n",
    "# time period: Jan 1, 2022 - June 30, 2022\n",
    "\n",
    "# issues with nevada and hawaii\n",
    "\n",
    "#remaining regions\n",
    "#states = ['AK', 'AZ', 'CA', 'CO', 'DE', 'FL', 'GA', 'IA', 'IL', 'IN','KS', 'MD', 'MI', 'MN', 'MO', 'MT', 'NE', 'ND', 'OH', 'SC', 'SD', 'UT', 'VA', 'WI', 'WV', 'WY']\n",
    "\n",
    "states = [\"HI\"]\n",
    "\n",
    "for state in states:\n",
    "    cats_state=petfinder.animals(animal_type='cat',\n",
    "                  status='adopted',\n",
    "                  before_date='2022-12-31', \n",
    "                  after_date='2022-01-01',\n",
    "                  location=state,\n",
    "                  pages=None\n",
    "                  ,return_df=True)\n",
    "    #print(dogs_state)\n",
    "    file_loc = \"data/other_regs/cats_\"+state+\"_jantodec2022.csv\"\n",
    "    print(\"file_loc, \", file_loc)\n",
    "    cats_state.to_csv(file_loc)"
   ]
  },
  {
   "cell_type": "code",
   "execution_count": 12,
   "id": "9cf15027",
   "metadata": {},
   "outputs": [],
   "source": [
    "cats_hi = pd.read_csv(\"data/other_regs/cats_HI_jantodec2022.csv\")"
   ]
  },
  {
   "cell_type": "code",
   "execution_count": 13,
   "id": "cad05df3",
   "metadata": {},
   "outputs": [
    {
     "name": "stdout",
     "output_type": "stream",
     "text": [
      "Index(['Unnamed: 0', 'id', 'organization_id', 'url', 'type', 'species', 'age',\n",
      "       'gender', 'size', 'coat', 'tags', 'name', 'description',\n",
      "       'organization_animal_id', 'photos', 'videos', 'status',\n",
      "       'status_changed_at', 'published_at', 'distance', 'breeds.primary',\n",
      "       'breeds.secondary', 'breeds.mixed', 'breeds.unknown', 'colors.primary',\n",
      "       'colors.secondary', 'colors.tertiary', 'attributes.spayed_neutered',\n",
      "       'attributes.house_trained', 'attributes.declawed',\n",
      "       'attributes.special_needs', 'attributes.shots_current',\n",
      "       'environment.children', 'environment.dogs', 'environment.cats',\n",
      "       'primary_photo_cropped.small', 'primary_photo_cropped.medium',\n",
      "       'primary_photo_cropped.large', 'primary_photo_cropped.full',\n",
      "       'contact.email', 'contact.phone', 'contact.address.address1',\n",
      "       'contact.address.address2', 'contact.address.city',\n",
      "       'contact.address.state', 'contact.address.postcode',\n",
      "       'contact.address.country', 'animal_id', 'animal_type',\n",
      "       'organization_id.1', 'primary_photo_cropped'],\n",
      "      dtype='object')\n"
     ]
    }
   ],
   "source": [
    "print(cats_hi.columns)"
   ]
  },
  {
   "cell_type": "code",
   "execution_count": 14,
   "id": "36a253bf",
   "metadata": {},
   "outputs": [
    {
     "name": "stdout",
     "output_type": "stream",
     "text": [
      "(269, 51)\n"
     ]
    }
   ],
   "source": [
    "print(cats_hi.shape)"
   ]
  },
  {
   "cell_type": "code",
   "execution_count": 15,
   "id": "157d9939",
   "metadata": {},
   "outputs": [],
   "source": [
    "cats_hi.drop_duplicates(subset=['id'], inplace=True)"
   ]
  },
  {
   "cell_type": "code",
   "execution_count": 16,
   "id": "02e27e1b",
   "metadata": {},
   "outputs": [
    {
     "name": "stdout",
     "output_type": "stream",
     "text": [
      "cats_hi_shape (268, 51)\n"
     ]
    }
   ],
   "source": [
    "print(\"cats_hi_shape\", cats_hi.shape)"
   ]
  },
  {
   "cell_type": "code",
   "execution_count": 17,
   "id": "04f5f82e",
   "metadata": {},
   "outputs": [],
   "source": [
    "cats_hi['published_at']=pd.to_datetime(cats_hi['published_at'])\n",
    "cats_hi['status_changed_at']=pd.to_datetime(cats_hi['status_changed_at'])"
   ]
  },
  {
   "cell_type": "code",
   "execution_count": 18,
   "id": "62565b32",
   "metadata": {},
   "outputs": [],
   "source": [
    "cats_hi['days_in_shelter']=cats_hi['status_changed_at']-cats_hi['published_at']\n",
    "cats_hi['days_in_shelter']=cats_hi['days_in_shelter']/np.timedelta64(1,'D')\n",
    "cats_hi['days_in_shelter']=cats_hi['days_in_shelter'].round()"
   ]
  },
  {
   "cell_type": "code",
   "execution_count": 19,
   "id": "b7195f96",
   "metadata": {},
   "outputs": [
    {
     "data": {
      "text/plain": [
       "Index(['Unnamed: 0', 'id', 'organization_id', 'url', 'type', 'species', 'age',\n",
       "       'gender', 'size', 'coat', 'tags', 'name', 'description',\n",
       "       'organization_animal_id', 'photos', 'videos', 'status',\n",
       "       'status_changed_at', 'published_at', 'distance', 'breeds.primary',\n",
       "       'breeds.secondary', 'breeds.mixed', 'breeds.unknown', 'colors.primary',\n",
       "       'colors.secondary', 'colors.tertiary', 'attributes.spayed_neutered',\n",
       "       'attributes.house_trained', 'attributes.declawed',\n",
       "       'attributes.special_needs', 'attributes.shots_current',\n",
       "       'environment.children', 'environment.dogs', 'environment.cats',\n",
       "       'primary_photo_cropped.small', 'primary_photo_cropped.medium',\n",
       "       'primary_photo_cropped.large', 'primary_photo_cropped.full',\n",
       "       'contact.email', 'contact.phone', 'contact.address.address1',\n",
       "       'contact.address.address2', 'contact.address.city',\n",
       "       'contact.address.state', 'contact.address.postcode',\n",
       "       'contact.address.country', 'animal_id', 'animal_type',\n",
       "       'organization_id.1', 'primary_photo_cropped', 'days_in_shelter'],\n",
       "      dtype='object')"
      ]
     },
     "execution_count": 19,
     "metadata": {},
     "output_type": "execute_result"
    }
   ],
   "source": [
    "cats_hi.columns"
   ]
  },
  {
   "cell_type": "code",
   "execution_count": 20,
   "id": "29d6d7b4",
   "metadata": {},
   "outputs": [],
   "source": [
    "cats_hi['breed'] = ''\n",
    "# Extract primary and secondary breed from 'breeds' column\n",
    "for i, row in cats_hi.iterrows():\n",
    "    primary_breed = row['breeds.primary']\n",
    "    secondary_breed = row['breeds.secondary']\n",
    "    mixed = row['breeds.mixed']\n",
    "    unknown_breed = row['breeds.unknown']\n",
    "    \n",
    "    if mixed:\n",
    "        cats_hi.at[i, 'breed'] = 'Mixed'\n",
    "    elif pd.notna(primary_breed):\n",
    "        cats_hi.at[i, 'breed'] = primary_breed\n",
    "    elif pd.notna(unknown_breed):\n",
    "        cats_hi.at[i, 'breed'] = unknown_breed\n",
    "    elif pd.notna(secondary_breed):\n",
    "        cats_hi.at[i, 'breed'] = secondary_breed\n",
    "    else:\n",
    "        cats_hi.at[i, 'breed'] = 'Unknown'"
   ]
  },
  {
   "cell_type": "code",
   "execution_count": 21,
   "id": "8dd1a4ac",
   "metadata": {},
   "outputs": [
    {
     "data": {
      "text/plain": [
       "(268, 53)"
      ]
     },
     "execution_count": 21,
     "metadata": {},
     "output_type": "execute_result"
    }
   ],
   "source": [
    "cats_hi.shape"
   ]
  },
  {
   "cell_type": "code",
   "execution_count": 22,
   "id": "bfae97e4",
   "metadata": {},
   "outputs": [],
   "source": [
    "# Select relevant columns\n",
    "cats_hi = cats_hi[['id', 'type', 'species', 'age', 'gender', 'size', 'coat', 'tags', 'name', 'description', 'status', \n",
    "         'published_at', 'status_changed_at', 'days_in_shelter', 'breed',\n",
    "         'colors.primary', 'attributes.spayed_neutered', 'attributes.house_trained', 'attributes.special_needs', \n",
    "         'attributes.shots_current', 'environment.dogs', 'contact.address.city',\n",
    "       'contact.address.state', 'contact.address.postcode',\n",
    "       'contact.address.country']]"
   ]
  },
  {
   "cell_type": "code",
   "execution_count": 23,
   "id": "1c360044",
   "metadata": {},
   "outputs": [],
   "source": [
    "cats_hi.to_csv('data/other_regs/cats_HI_jantodec2022_cleaned', index=False)"
   ]
  },
  {
   "cell_type": "code",
   "execution_count": 26,
   "id": "d1373ca4",
   "metadata": {},
   "outputs": [
    {
     "name": "stderr",
     "output_type": "stream",
     "text": [
      "/var/folders/js/_m5r698x29j4dvr0w18h6jdm0000gn/T/ipykernel_36778/2284017227.py:2: DtypeWarning: Columns (23) have mixed types. Specify dtype option on import or set low_memory=False.\n",
      "  df_other = pd.read_csv(\"data/combined/us_minusNVHI_jantodec_adopted_dogsANDcats.csv\")\n"
     ]
    }
   ],
   "source": [
    "df_hi = pd.read_csv(\"data/other_regs/cats_HI_jantodec2022_cleaned\")\n",
    "df_other = pd.read_csv(\"data/combined/us_minusNVHI_jantodec_adopted_dogsANDcats.csv\")"
   ]
  },
  {
   "cell_type": "code",
   "execution_count": 27,
   "id": "8f61569a",
   "metadata": {},
   "outputs": [
    {
     "name": "stdout",
     "output_type": "stream",
     "text": [
      "(268, 25)\n",
      "(372834, 25)\n"
     ]
    }
   ],
   "source": [
    "print(df_hi.shape)\n",
    "print(df_other.shape)"
   ]
  },
  {
   "cell_type": "code",
   "execution_count": 28,
   "id": "83fb8134",
   "metadata": {},
   "outputs": [
    {
     "name": "stdout",
     "output_type": "stream",
     "text": [
      "(373102, 25)\n"
     ]
    }
   ],
   "source": [
    "us_all = pd.concat([df_hi, df_other])\n",
    "print(us_all.shape)"
   ]
  },
  {
   "cell_type": "code",
   "execution_count": null,
   "id": "cf268f24",
   "metadata": {},
   "outputs": [],
   "source": [
    "print(us_all['state'])"
   ]
  },
  {
   "cell_type": "code",
   "execution_count": 29,
   "id": "f732ba44",
   "metadata": {},
   "outputs": [],
   "source": [
    "us_all.to_csv('data/combined/us_all_jantodec_adopted_dogsANDcats.csv', index=False)\n",
    "# saved to google drive"
   ]
  }
 ],
 "metadata": {
  "kernelspec": {
   "display_name": "Python 3",
   "language": "python",
   "name": "python3"
  },
  "language_info": {
   "codemirror_mode": {
    "name": "ipython",
    "version": 3
   },
   "file_extension": ".py",
   "mimetype": "text/x-python",
   "name": "python",
   "nbconvert_exporter": "python",
   "pygments_lexer": "ipython3",
   "version": "3.9.16"
  },
  "vscode": {
   "interpreter": {
    "hash": "d1f6d7dbbb8ff6a3fa93df58af2be11c93ee304f1dc26260daecb46f4fb247fe"
   }
  }
 },
 "nbformat": 4,
 "nbformat_minor": 5
}
