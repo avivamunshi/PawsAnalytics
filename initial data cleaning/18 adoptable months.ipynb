{
 "cells": [
  {
   "cell_type": "code",
   "execution_count": 2,
   "id": "9f934174",
   "metadata": {},
   "outputs": [],
   "source": [
    "import petpy\n",
    "import pandas as pd\n",
    "import numpy as np\n",
    "import random"
   ]
  },
  {
   "cell_type": "code",
   "execution_count": 3,
   "id": "21e5d11c",
   "metadata": {},
   "outputs": [],
   "source": [
    "petfinder=petpy.Petfinder(\n",
    "    key='uTe0odJUWZhi3Lv0pyLteRLLJVv9Qv65GTH6zJDEBoEAlmd7kt', \n",
    "    secret='HGN1qte2FpD8TgaL9WtuZF9WDuPUq129RVxUYDR7')"
   ]
  },
  {
   "cell_type": "code",
   "execution_count": 5,
   "id": "a938753a",
   "metadata": {},
   "outputs": [],
   "source": [
    "# Debbie\n",
    "dogs_test_wa=petfinder.animals(animal_type='dog',\n",
    "                  status='adopted',\n",
    "                  before_date='2023-01-01', \n",
    "                  after_date='2022-12-01',\n",
    "                  location = \"WA\",\n",
    "                  pages=None,\n",
    "                  return_df=True)"
   ]
  },
  {
   "cell_type": "code",
   "execution_count": 7,
   "id": "1a63dd35",
   "metadata": {},
   "outputs": [],
   "source": [
    "dogs_test_wa.to_csv(\"dog_test_wa.csv\")"
   ]
  },
  {
   "cell_type": "code",
   "execution_count": null,
   "id": "fbbe51d9",
   "metadata": {},
   "outputs": [],
   "source": [
    "dogs_18_months=petfinder.animals(animal_type='dog',\n",
    "                  status='adopted',\n",
    "                  before_date='2023-01-01', \n",
    "                  after_date='2022-07-01', \n",
    "                  pages=None,\n",
    "                  return_df=True)"
   ]
  },
  {
   "cell_type": "code",
   "execution_count": null,
   "id": "b9895da6",
   "metadata": {},
   "outputs": [],
   "source": [
    "dogs_18_months.to_csv('dogs_18_months.csv', index=False)"
   ]
  },
  {
   "cell_type": "code",
   "execution_count": null,
   "id": "7aa0453f",
   "metadata": {},
   "outputs": [],
   "source": [
    "cats_18_months=petfinder.animals(animal_type='cat',\n",
    "                  status='adopted',\n",
    "                  before_date='2023-07-01', \n",
    "                  after_date='2022-01-01', \n",
    "                  pages=None,\n",
    "                  return_df=True)"
   ]
  },
  {
   "cell_type": "code",
   "execution_count": null,
   "id": "4246f25d",
   "metadata": {},
   "outputs": [],
   "source": [
    "cats_18_months.to_csv('cats_18_months.csv', index=False)"
   ]
  },
  {
   "cell_type": "code",
   "execution_count": 27,
   "id": "9cf15027",
   "metadata": {},
   "outputs": [],
   "source": [
    "dogs = pd.read_csv('dogs_18_months.csv')\n",
    "cats = pd.read_csv('cats_18_months.csv')"
   ]
  },
  {
   "cell_type": "code",
   "execution_count": 13,
   "id": "806bde51",
   "metadata": {},
   "outputs": [],
   "source": [
    "dogs_US = dogs[dogs['contact.address.country'] == 'US'].copy()\n",
    "cats_US = cats[cats['contact.address.country'] == 'US'].copy()"
   ]
  },
  {
   "cell_type": "code",
   "execution_count": 14,
   "id": "157d9939",
   "metadata": {},
   "outputs": [],
   "source": [
    "dogs_US.drop_duplicates(subset=['id'], inplace=True)\n",
    "cats_US.drop_duplicates(subset=['id'], inplace=True)"
   ]
  },
  {
   "cell_type": "code",
   "execution_count": 15,
   "id": "c162e943",
   "metadata": {},
   "outputs": [],
   "source": [
    "US = pd.concat([dogs_US, cats_US])"
   ]
  },
  {
   "cell_type": "code",
   "execution_count": 16,
   "id": "04f5f82e",
   "metadata": {},
   "outputs": [],
   "source": [
    "US['published_at']=pd.to_datetime(US['published_at'])\n",
    "US['status_changed_at']=pd.to_datetime(US['status_changed_at'])"
   ]
  },
  {
   "cell_type": "code",
   "execution_count": 17,
   "id": "62565b32",
   "metadata": {},
   "outputs": [],
   "source": [
    "US['days_in_shelter']=US['status_changed_at']-US['published_at']\n",
    "US['days_in_shelter']=US['days_in_shelter']/np.timedelta64(1,'D')\n",
    "US['days_in_shelter']=US['days_in_shelter'].round()"
   ]
  },
  {
   "cell_type": "code",
   "execution_count": 18,
   "id": "29d6d7b4",
   "metadata": {},
   "outputs": [],
   "source": [
    "US['breed'] = ''\n",
    "# Extract primary and secondary breed from 'breeds' column\n",
    "for i, row in US.iterrows():\n",
    "    primary_breed = row['breeds.primary']\n",
    "    secondary_breed = row['breeds.secondary']\n",
    "    mixed = row['breeds.mixed']\n",
    "    unknown_breed = row['breeds.unknown']\n",
    "    \n",
    "    if mixed:\n",
    "        US.at[i, 'breed'] = 'Mixed'\n",
    "    elif pd.notna(primary_breed):\n",
    "        US.at[i, 'breed'] = primary_breed\n",
    "    elif pd.notna(unknown_breed):\n",
    "        US.at[i, 'breed'] = unknown_breed\n",
    "    elif pd.notna(secondary_breed):\n",
    "        US.at[i, 'breed'] = secondary_breed\n",
    "    else:\n",
    "        US.at[i, 'breed'] = 'Unknown'"
   ]
  },
  {
   "cell_type": "code",
   "execution_count": 19,
   "id": "bfae97e4",
   "metadata": {},
   "outputs": [],
   "source": [
    "# Select relevant columns\n",
    "US = US[['id', 'type', 'species', 'age', 'gender', 'size', 'coat', 'tags', 'name', 'description', 'status', \n",
    "         'published_at', 'status_changed_at', 'days_in_shelter', 'breed',\n",
    "         'colors.primary', 'attributes.spayed_neutered', 'attributes.house_trained', 'attributes.special_needs', \n",
    "         'attributes.shots_current', 'environment.dogs']]"
   ]
  },
  {
   "cell_type": "code",
   "execution_count": 20,
   "id": "1c360044",
   "metadata": {},
   "outputs": [],
   "source": [
    "US.to_csv('US.csv', index=False)"
   ]
  },
  {
   "cell_type": "code",
   "execution_count": 23,
   "id": "d1373ca4",
   "metadata": {},
   "outputs": [
    {
     "data": {
      "text/plain": [
       "(156361, 21)"
      ]
     },
     "execution_count": 23,
     "metadata": {},
     "output_type": "execute_result"
    }
   ],
   "source": [
    "US.shape\n",
    "#this data has been saved as '18_adopted_months' on the google drive"
   ]
  }
 ],
 "metadata": {
  "kernelspec": {
   "display_name": "Python 3",
   "language": "python",
   "name": "python3"
  },
  "language_info": {
   "codemirror_mode": {
    "name": "ipython",
    "version": 3
   },
   "file_extension": ".py",
   "mimetype": "text/x-python",
   "name": "python",
   "nbconvert_exporter": "python",
   "pygments_lexer": "ipython3",
   "version": "3.9.16"
  },
  "vscode": {
   "interpreter": {
    "hash": "d1f6d7dbbb8ff6a3fa93df58af2be11c93ee304f1dc26260daecb46f4fb247fe"
   }
  }
 },
 "nbformat": 4,
 "nbformat_minor": 5
}
