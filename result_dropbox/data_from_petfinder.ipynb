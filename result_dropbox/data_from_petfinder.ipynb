{
 "cells": [
  {
   "cell_type": "code",
   "execution_count": 1,
   "metadata": {},
   "outputs": [],
   "source": [
    "import petpy\n",
    "import pandas as pd\n",
    "import numpy as np\n",
    "import random\n",
    "import os"
   ]
  },
  {
   "cell_type": "code",
   "execution_count": 57,
   "metadata": {},
   "outputs": [],
   "source": [
    "petfinder=petpy.Petfinder(\n",
    "    key='9oX7HpwHhbPTmUurKFFE37N3mSAnA5txt9Foh8bdHHwZs9iTVu', \n",
    "    secret='uK4cSwGk6TDfoNi1uGy4D30L6A78XkhNndZrT0iM')"
   ]
  },
  {
   "cell_type": "markdown",
   "metadata": {},
   "source": [
    "Due to API limits on requests allowed per day, multiple API keys are needed to download the data from PetFinder. To avoid errors caused by the API limits, have to make the API request for each individual state for both dogs and cats and then combine them into one dataframe / csv file afterwards. "
   ]
  },
  {
   "cell_type": "code",
   "execution_count": 11,
   "metadata": {},
   "outputs": [
    {
     "name": "stdout",
     "output_type": "stream",
     "text": [
      "file_loc,  ../data/by_state/dogs/RI_2022.csv\n",
      "file_loc,  ../data/by_state/dogs/SC_2022.csv\n",
      "file_loc,  ../data/by_state/dogs/SD_2022.csv\n",
      "file_loc,  ../data/by_state/dogs/TN_2022.csv\n",
      "file_loc,  ../data/by_state/dogs/TX_2022.csv\n",
      "file_loc,  ../data/by_state/dogs/UT_2022.csv\n",
      "file_loc,  ../data/by_state/dogs/VT_2022.csv\n",
      "file_loc,  ../data/by_state/dogs/VA_2022.csv\n",
      "file_loc,  ../data/by_state/dogs/WA_2022.csv\n",
      "file_loc,  ../data/by_state/dogs/WV_2022.csv\n",
      "file_loc,  ../data/by_state/dogs/WI_2022.csv\n",
      "file_loc,  ../data/by_state/dogs/WY_2022.csv\n"
     ]
    }
   ],
   "source": [
    "# Dogs for each state - HI and NV removed because it doesn't have an records\n",
    "# states_iter1 = [\"AL\",\"AK\",\"AZ\",\"AR\",\"CA\",\"CO\",\"CT\",\"DE\",\"FL\",\"GA\",\"HI\",\"ID\",\"IL\",\"IN\",\"IA\",\"KS\",\"KY\",\"LA\",\"ME\",\"MD\",\"MA\",\"MI\",\"MN\",\"MS\",\"MO\",\"MT\",\"NE\",\"NH\",\"NJ\",\"NM\",\"NY\",\"NC\",\"ND\",\"OH\",\"OK\",\"OR\",\"PA\",\"RI\",\"SC\",\"SD\",\"TN\",\"TX\",\"UT\",\"VT\",\"VA\",\"WA\",\"WV\",\"WI\",\"WY\"]\n",
    "\n",
    "states_iter2 = [\"RI\",\"SC\",\"SD\",\"TN\",\"TX\",\"UT\",\"VT\",\"VA\",\"WA\",\"WV\",\"WI\",\"WY\"]\n",
    "\n",
    "for state in states_iter2:\n",
    "    dogs_state=petfinder.animals(animal_type='dog',\n",
    "                  status='adopted',\n",
    "                  before_date='2022-12-31', \n",
    "                  after_date='2022-01-01',\n",
    "                  location=state,\n",
    "                  pages=None,\n",
    "                  return_df=True)\n",
    "    file_loc = \"../data/by_state/dogs/\"+state+\"_2022.csv\"\n",
    "    print(\"file_loc, \", file_loc)\n",
    "    dogs_state.to_csv(file_loc)"
   ]
  },
  {
   "cell_type": "code",
   "execution_count": 19,
   "metadata": {},
   "outputs": [
    {
     "name": "stdout",
     "output_type": "stream",
     "text": [
      "file_loc,  ../data/by_state/cats/RI_2022.csv\n",
      "file_loc,  ../data/by_state/cats/SC_2022.csv\n",
      "file_loc,  ../data/by_state/cats/SD_2022.csv\n",
      "file_loc,  ../data/by_state/cats/TN_2022.csv\n",
      "file_loc,  ../data/by_state/cats/TX_2022.csv\n",
      "file_loc,  ../data/by_state/cats/UT_2022.csv\n",
      "file_loc,  ../data/by_state/cats/VT_2022.csv\n",
      "file_loc,  ../data/by_state/cats/VA_2022.csv\n",
      "file_loc,  ../data/by_state/cats/WA_2022.csv\n",
      "file_loc,  ../data/by_state/cats/WV_2022.csv\n",
      "file_loc,  ../data/by_state/cats/WI_2022.csv\n",
      "file_loc,  ../data/by_state/cats/WY_2022.csv\n"
     ]
    }
   ],
   "source": [
    "# Cats for each state - NV removed because it doesn't have any records\n",
    "#states = [\"AL\",\"AK\",\"AZ\",\"AR\",\"CA\",\"CO\",\"CT\",\"DE\",\"FL\",\"GA\",\"HI\",\"ID\",\"IL\",\"IN\",\"IA\",\"KS\",\"KY\",\"LA\",\"ME\",\"MD\",\"MA\",\"MI\",\"MN\",\"MS\",\"MO\",\"MT\",\"NE\",\"NV\",\"NH\",\"NJ\",\"NM\",\"NY\",\"NC\",\"ND\",\"OH\",\"OK\",\"OR\",\"PA\",\"RI\",\"SC\",\"SD\",\"TN\",\"TX\",\"UT\",\"VT\",\"VA\",\"WA\",\"WV\",\"WI\",\"WY\"]\n",
    "\n",
    "states_iter2 = [\"RI\",\"SC\",\"SD\",\"TN\",\"TX\",\"UT\",\"VT\",\"VA\",\"WA\",\"WV\",\"WI\",\"WY\"]\n",
    "\n",
    "for state in states_iter2:\n",
    "    cats_state=petfinder.animals(animal_type='cat',\n",
    "                  status='adopted',\n",
    "                  before_date='2022-12-31', \n",
    "                  after_date='2022-01-01',\n",
    "                  location=state,\n",
    "                  pages=None,\n",
    "                  return_df=True)\n",
    "    file_loc = \"../data/by_state/cats/\"+state+\"_2022.csv\"\n",
    "    print(\"file_loc, \", file_loc)\n",
    "    cats_state.to_csv(file_loc)"
   ]
  },
  {
   "cell_type": "code",
   "execution_count": 23,
   "metadata": {},
   "outputs": [
    {
     "name": "stdout",
     "output_type": "stream",
     "text": [
      "file:  CO_2022.csv\n",
      "file:  AR_2022.csv\n",
      "file:  NE_2022.csv\n",
      "file:  ND_2022.csv\n",
      "file:  MA_2022.csv\n",
      "file:  TX_2022.csv\n",
      "file:  WV_2022.csv\n",
      "file:  WI_2022.csv\n",
      "file:  UT_2022.csv\n",
      "file:  AL_2022.csv\n",
      "file:  MT_2022.csv\n",
      "file:  OH_2022.csv\n",
      "file:  HI_2022.csv\n",
      "file:  AK_2022.csv\n",
      "file:  LA_2022.csv\n",
      "file:  MS_2022.csv\n",
      "file:  FL_2022.csv\n",
      "file:  ID_2022.csv\n",
      "file:  KY_2022.csv\n",
      "file:  NC_2022.csv\n",
      "file:  GA_2022.csv\n",
      "file:  DE_2022.csv\n",
      "file:  KS_2022.csv\n",
      "file:  IN_2022.csv\n",
      "file:  NH_2022.csv\n",
      "file:  WA_2022.csv\n",
      "file:  NY_2022.csv\n",
      "file:  TN_2022.csv\n",
      "file:  OK_2022.csv\n",
      "file:  SC_2022.csv\n",
      "file:  NM_2022.csv\n",
      "file:  AZ_2022.csv\n",
      "file:  IA_2022.csv\n",
      "file:  MI_2022.csv\n",
      "file:  ME_2022.csv\n",
      "file:  RI_2022.csv\n",
      "file:  MD_2022.csv\n",
      "file:  VA_2022.csv\n",
      "file:  IL_2022.csv\n",
      "file:  NJ_2022.csv\n",
      "file:  CA_2022.csv\n",
      "file:  MO_2022.csv\n",
      "file:  MN_2022.csv\n",
      "file:  OR_2022.csv\n",
      "file:  WY_2022.csv\n",
      "file:  CT_2022.csv\n",
      "file:  VT_2022.csv\n",
      "file:  PA_2022.csv\n",
      "file:  SD_2022.csv\n",
      "(235489, 51)\n"
     ]
    }
   ],
   "source": [
    "# Combine all the CAT csvs for each individual state into one csv\n",
    "\n",
    "# specify the directory path\n",
    "dir_path = \"../data/by_state/cats\"\n",
    "\n",
    "# get a list of files in the directory\n",
    "files = os.listdir(dir_path)\n",
    "\n",
    "cats_combined_df = pd.DataFrame()\n",
    "\n",
    "# for each file in the directory, create a temporary dataframe and concat it to the cats_combined_df\n",
    "for file in files:\n",
    "    print('file: ', file)\n",
    "    file_loc = dir_path + \"/\" + file\n",
    "    df = pd.read_csv(file_loc)\n",
    "    cats_combined_df = pd.concat([cats_combined_df, df])\n",
    "\n",
    "print(cats_combined_df.shape)\n",
    "\n",
    "# write the combined df to a csv file\n",
    "cats_combined_df.to_csv(\"../data/combined/adopted_cats_jantodec.csv\", index=False)"
   ]
  },
  {
   "cell_type": "code",
   "execution_count": 24,
   "metadata": {},
   "outputs": [
    {
     "name": "stdout",
     "output_type": "stream",
     "text": [
      "file:  CO_2022.csv\n",
      "file:  AR_2022.csv\n",
      "file:  NE_2022.csv\n",
      "file:  ND_2022.csv\n",
      "file:  MA_2022.csv\n",
      "file:  TX_2022.csv\n",
      "file:  WV_2022.csv\n",
      "file:  WI_2022.csv\n",
      "file:  UT_2022.csv\n",
      "file:  AL_2022.csv\n",
      "file:  MT_2022.csv\n",
      "file:  OH_2022.csv\n",
      "file:  AK_2022.csv\n",
      "file:  LA_2022.csv\n",
      "file:  MS_2022.csv\n",
      "file:  FL_2022.csv\n",
      "file:  ID_2022.csv\n",
      "file:  KY_2022.csv\n",
      "file:  NC_2022.csv\n",
      "file:  GA_2022.csv\n",
      "file:  DE_2022.csv\n",
      "file:  KS_2022.csv\n",
      "file:  IN_2022.csv\n",
      "file:  NH_2022.csv\n",
      "file:  WA_2022.csv\n",
      "file:  NY_2022.csv\n",
      "file:  TN_2022.csv\n",
      "file:  OK_2022.csv\n",
      "file:  SC_2022.csv\n",
      "file:  NM_2022.csv\n",
      "file:  AZ_2022.csv\n",
      "file:  IA_2022.csv\n",
      "file:  MI_2022.csv\n",
      "file:  ME_2022.csv\n",
      "file:  RI_2022.csv\n",
      "file:  MD_2022.csv\n",
      "file:  VA_2022.csv\n",
      "file:  IL_2022.csv\n",
      "file:  NJ_2022.csv\n",
      "file:  CA_2022.csv\n",
      "file:  MO_2022.csv\n",
      "file:  MN_2022.csv\n",
      "file:  OR_2022.csv\n",
      "file:  WY_2022.csv\n",
      "file:  CT_2022.csv\n",
      "file:  VT_2022.csv\n",
      "file:  PA_2022.csv\n",
      "file:  SD_2022.csv\n",
      "(288367, 51)\n"
     ]
    }
   ],
   "source": [
    "# Combine all the DOG csvs for each individual state into one csv\n",
    "\n",
    "# specify the directory path\n",
    "dir_path = \"../data/by_state/dogs\"\n",
    "\n",
    "# get a list of files in the directory\n",
    "files = os.listdir(dir_path)\n",
    "\n",
    "dogs_combined_df = pd.DataFrame()\n",
    "\n",
    "# for each file in the directory, create a temporary dataframe and concat it to the dogs_combined_df\n",
    "for file in files:\n",
    "    print('file: ', file)\n",
    "    file_loc = dir_path + \"/\" + file\n",
    "    df = pd.read_csv(file_loc)\n",
    "    dogs_combined_df = pd.concat([dogs_combined_df, df])\n",
    "\n",
    "print(dogs_combined_df.shape)\n",
    "\n",
    "# write the combined df to a csv file\n",
    "dogs_combined_df.to_csv(\"../data/combined/adopted_dogs_jantodec.csv\", index=False)"
   ]
  },
  {
   "cell_type": "code",
   "execution_count": 26,
   "metadata": {},
   "outputs": [
    {
     "name": "stderr",
     "output_type": "stream",
     "text": [
      "/var/folders/js/_m5r698x29j4dvr0w18h6jdm0000gn/T/ipykernel_9594/951717043.py:2: DtypeWarning: Columns (45) have mixed types. Specify dtype option on import or set low_memory=False.\n",
      "  dogs = pd.read_csv('../data/combined/adopted_dogs_jantodec.csv')\n",
      "/var/folders/js/_m5r698x29j4dvr0w18h6jdm0000gn/T/ipykernel_9594/951717043.py:3: DtypeWarning: Columns (45) have mixed types. Specify dtype option on import or set low_memory=False.\n",
      "  cats = pd.read_csv('../data/combined/adopted_cats_jantodec.csv')\n"
     ]
    }
   ],
   "source": [
    "# Read in the combined dog csv and combined cat csv\n",
    "dogs = pd.read_csv('../data/combined/adopted_dogs_jantodec.csv')\n",
    "cats = pd.read_csv('../data/combined/adopted_cats_jantodec.csv')"
   ]
  },
  {
   "cell_type": "code",
   "execution_count": 27,
   "metadata": {},
   "outputs": [
    {
     "name": "stdout",
     "output_type": "stream",
     "text": [
      "(288367, 51)\n",
      "Index(['Unnamed: 0', 'id', 'organization_id', 'url', 'type', 'species', 'age',\n",
      "       'gender', 'size', 'coat', 'tags', 'name', 'description',\n",
      "       'organization_animal_id', 'photos', 'videos', 'status',\n",
      "       'status_changed_at', 'published_at', 'distance', 'breeds.primary',\n",
      "       'breeds.secondary', 'breeds.mixed', 'breeds.unknown', 'colors.primary',\n",
      "       'colors.secondary', 'colors.tertiary', 'attributes.spayed_neutered',\n",
      "       'attributes.house_trained', 'attributes.declawed',\n",
      "       'attributes.special_needs', 'attributes.shots_current',\n",
      "       'environment.children', 'environment.dogs', 'environment.cats',\n",
      "       'primary_photo_cropped.small', 'primary_photo_cropped.medium',\n",
      "       'primary_photo_cropped.large', 'primary_photo_cropped.full',\n",
      "       'contact.email', 'contact.phone', 'contact.address.address1',\n",
      "       'contact.address.address2', 'contact.address.city',\n",
      "       'contact.address.state', 'contact.address.postcode',\n",
      "       'contact.address.country', 'animal_id', 'animal_type',\n",
      "       'organization_id.1', 'primary_photo_cropped'],\n",
      "      dtype='object')\n"
     ]
    }
   ],
   "source": [
    "print(dogs.shape)\n",
    "print(dogs.columns)"
   ]
  },
  {
   "cell_type": "code",
   "execution_count": 28,
   "metadata": {},
   "outputs": [
    {
     "name": "stdout",
     "output_type": "stream",
     "text": [
      "(235489, 51)\n",
      "Index(['Unnamed: 0', 'id', 'organization_id', 'url', 'type', 'species', 'age',\n",
      "       'gender', 'size', 'coat', 'tags', 'name', 'description',\n",
      "       'organization_animal_id', 'photos', 'videos', 'status',\n",
      "       'status_changed_at', 'published_at', 'distance', 'breeds.primary',\n",
      "       'breeds.secondary', 'breeds.mixed', 'breeds.unknown', 'colors.primary',\n",
      "       'colors.secondary', 'colors.tertiary', 'attributes.spayed_neutered',\n",
      "       'attributes.house_trained', 'attributes.declawed',\n",
      "       'attributes.special_needs', 'attributes.shots_current',\n",
      "       'environment.children', 'environment.dogs', 'environment.cats',\n",
      "       'primary_photo_cropped.small', 'primary_photo_cropped.medium',\n",
      "       'primary_photo_cropped.large', 'primary_photo_cropped.full',\n",
      "       'contact.email', 'contact.phone', 'contact.address.address1',\n",
      "       'contact.address.address2', 'contact.address.city',\n",
      "       'contact.address.state', 'contact.address.postcode',\n",
      "       'contact.address.country', 'animal_id', 'animal_type',\n",
      "       'organization_id.1', 'primary_photo_cropped'],\n",
      "      dtype='object')\n"
     ]
    }
   ],
   "source": [
    "print(cats.shape)\n",
    "print(cats.columns)"
   ]
  },
  {
   "cell_type": "code",
   "execution_count": 29,
   "metadata": {},
   "outputs": [],
   "source": [
    "# Remove duplicates\n",
    "dogs.drop_duplicates(subset=['id'], inplace=True)\n",
    "cats.drop_duplicates(subset=['id'], inplace=True)"
   ]
  },
  {
   "cell_type": "code",
   "execution_count": 30,
   "metadata": {},
   "outputs": [
    {
     "name": "stdout",
     "output_type": "stream",
     "text": [
      "dogs shape (191148, 51)\n",
      "cats shape (152364, 51)\n"
     ]
    }
   ],
   "source": [
    "print(\"dogs shape\", dogs.shape)\n",
    "print(\"cats shape\", cats.shape)"
   ]
  },
  {
   "cell_type": "code",
   "execution_count": 37,
   "metadata": {},
   "outputs": [],
   "source": [
    "# Combine the dogs and cats dataframes\n",
    "df_combined = pd.concat([dogs, cats])"
   ]
  },
  {
   "cell_type": "code",
   "execution_count": 38,
   "metadata": {},
   "outputs": [
    {
     "name": "stdout",
     "output_type": "stream",
     "text": [
      "(343512, 51)\n"
     ]
    }
   ],
   "source": [
    "print(df_combined.shape)"
   ]
  },
  {
   "cell_type": "code",
   "execution_count": 39,
   "metadata": {},
   "outputs": [],
   "source": [
    "# Change the published_at and status_changed at columns to datetime\n",
    "df_combined['published_at']=pd.to_datetime(df_combined['published_at'])\n",
    "df_combined['status_changed_at']=pd.to_datetime(df_combined['status_changed_at'])"
   ]
  },
  {
   "cell_type": "code",
   "execution_count": 40,
   "metadata": {},
   "outputs": [],
   "source": [
    "# Caluclate the days_in_shelter column\n",
    "df_combined['days_in_shelter']=df_combined['status_changed_at']-df_combined['published_at']\n",
    "df_combined['days_in_shelter']=df_combined['days_in_shelter']/np.timedelta64(1,'D')\n",
    "df_combined['days_in_shelter']=df_combined['days_in_shelter'].round()"
   ]
  },
  {
   "cell_type": "code",
   "execution_count": 41,
   "metadata": {},
   "outputs": [
    {
     "data": {
      "text/plain": [
       "(343512, 52)"
      ]
     },
     "execution_count": 41,
     "metadata": {},
     "output_type": "execute_result"
    }
   ],
   "source": [
    "df_combined.shape"
   ]
  },
  {
   "cell_type": "code",
   "execution_count": 43,
   "metadata": {},
   "outputs": [],
   "source": [
    "# Select relevant columns\n",
    "df_combined = df_combined[['id', 'type', 'species', 'age', 'gender', 'size', 'coat', 'tags', 'name', 'description', 'status', \n",
    "         'published_at', 'status_changed_at', 'days_in_shelter', 'breeds.primary', 'breeds.secondary', 'breeds.mixed', 'breeds.unknown',\n",
    "         'colors.primary', 'attributes.spayed_neutered', 'attributes.house_trained', 'attributes.special_needs', \n",
    "         'attributes.shots_current', 'environment.dogs', 'contact.address.city',\n",
    "       'contact.address.state', 'contact.address.postcode',\n",
    "       'contact.address.country']]"
   ]
  },
  {
   "cell_type": "code",
   "execution_count": 44,
   "metadata": {},
   "outputs": [
    {
     "data": {
      "text/plain": [
       "(343512, 28)"
      ]
     },
     "execution_count": 44,
     "metadata": {},
     "output_type": "execute_result"
    }
   ],
   "source": [
    "df_combined.shape"
   ]
  },
  {
   "cell_type": "code",
   "execution_count": 45,
   "metadata": {},
   "outputs": [
    {
     "name": "stderr",
     "output_type": "stream",
     "text": [
      "/var/folders/js/_m5r698x29j4dvr0w18h6jdm0000gn/T/ipykernel_9594/347349214.py:1: SettingWithCopyWarning: \n",
      "A value is trying to be set on a copy of a slice from a DataFrame.\n",
      "Try using .loc[row_indexer,col_indexer] = value instead\n",
      "\n",
      "See the caveats in the documentation: https://pandas.pydata.org/pandas-docs/stable/user_guide/indexing.html#returning-a-view-versus-a-copy\n",
      "  df_combined['breed'] = ''\n"
     ]
    }
   ],
   "source": [
    "df_combined['breed'] = ''\n",
    "# Extract primary and secondary breed from 'breeds' column\n",
    "for i, row in df_combined.iterrows():\n",
    "    primary_breed = row['breeds.primary']\n",
    "    secondary_breed = row['breeds.secondary']\n",
    "    mixed = row['breeds.mixed']\n",
    "    unknown_breed = row['breeds.unknown']\n",
    "    \n",
    "    if mixed:\n",
    "        df_combined.at[i, 'breed'] = 'Mixed'\n",
    "    elif pd.notna(primary_breed):\n",
    "        df_combined.at[i, 'breed'] = primary_breed\n",
    "    elif pd.notna(unknown_breed):\n",
    "        df_combined.at[i, 'breed'] = unknown_breed\n",
    "    elif pd.notna(secondary_breed):\n",
    "        df_combined.at[i, 'breed'] = secondary_breed\n",
    "    else:\n",
    "        df_combined.at[i, 'breed'] = 'Unknown'"
   ]
  },
  {
   "cell_type": "code",
   "execution_count": 46,
   "metadata": {},
   "outputs": [
    {
     "data": {
      "text/plain": [
       "(343512, 29)"
      ]
     },
     "execution_count": 46,
     "metadata": {},
     "output_type": "execute_result"
    }
   ],
   "source": [
    "df_combined.shape"
   ]
  },
  {
   "cell_type": "code",
   "execution_count": 47,
   "metadata": {},
   "outputs": [],
   "source": [
    "# Select relevant columns\n",
    "df_combined = df_combined[['id', 'type', 'species', 'age', 'gender', 'size', 'coat', 'tags', 'name', 'description', 'status', \n",
    "         'published_at', 'status_changed_at', 'days_in_shelter', 'breed',\n",
    "         'colors.primary', 'attributes.spayed_neutered', 'attributes.house_trained', 'attributes.special_needs', \n",
    "         'attributes.shots_current', 'environment.dogs', 'contact.address.city',\n",
    "       'contact.address.state', 'contact.address.postcode',\n",
    "       'contact.address.country']]"
   ]
  },
  {
   "cell_type": "code",
   "execution_count": 48,
   "metadata": {},
   "outputs": [
    {
     "data": {
      "text/plain": [
       "(343512, 25)"
      ]
     },
     "execution_count": 48,
     "metadata": {},
     "output_type": "execute_result"
    }
   ],
   "source": [
    "df_combined.shape"
   ]
  },
  {
   "cell_type": "code",
   "execution_count": 49,
   "metadata": {},
   "outputs": [],
   "source": [
    "# Write the combined data frame to a csv\n",
    "df_combined.to_csv('../data/combined/us_all_jantodec_adopted_dogsANDcats.csv', index=False)"
   ]
  },
  {
   "attachments": {},
   "cell_type": "markdown",
   "metadata": {},
   "source": [
    "# Adoptable Dogs/Cats"
   ]
  },
  {
   "cell_type": "code",
   "execution_count": 59,
   "metadata": {},
   "outputs": [
    {
     "name": "stdout",
     "output_type": "stream",
     "text": [
      "file_loc,  ../data/adoptable_by_state/dogs/OH_2022.csv\n",
      "file_loc,  ../data/adoptable_by_state/dogs/OK_2022.csv\n",
      "file_loc,  ../data/adoptable_by_state/dogs/OR_2022.csv\n",
      "file_loc,  ../data/adoptable_by_state/dogs/PA_2022.csv\n",
      "file_loc,  ../data/adoptable_by_state/dogs/RI_2022.csv\n",
      "file_loc,  ../data/adoptable_by_state/dogs/SC_2022.csv\n",
      "file_loc,  ../data/adoptable_by_state/dogs/SD_2022.csv\n",
      "file_loc,  ../data/adoptable_by_state/dogs/TN_2022.csv\n",
      "file_loc,  ../data/adoptable_by_state/dogs/TX_2022.csv\n",
      "file_loc,  ../data/adoptable_by_state/dogs/UT_2022.csv\n",
      "file_loc,  ../data/adoptable_by_state/dogs/VT_2022.csv\n",
      "file_loc,  ../data/adoptable_by_state/dogs/VA_2022.csv\n",
      "file_loc,  ../data/adoptable_by_state/dogs/WA_2022.csv\n",
      "file_loc,  ../data/adoptable_by_state/dogs/WV_2022.csv\n",
      "file_loc,  ../data/adoptable_by_state/dogs/WI_2022.csv\n",
      "file_loc,  ../data/adoptable_by_state/dogs/WY_2022.csv\n"
     ]
    }
   ],
   "source": [
    "# Removed the following because they don't have any records:\n",
    "# AK, NV\n",
    "#states= [\"AL\",\"AK\",\"AZ\",\"AR\",\"CA\",\"CO\",\"CT\",\"DE\",\"FL\",\"GA\",\"HI\",\"ID\",\"IL\",\"IN\",\"IA\",\"KS\",\"KY\",\"LA\",\"ME\",\"MD\",\"MA\",\"MI\",\"MN\",\"MS\",\"MO\",\"MT\",\"NE\",\"NH\",\"NJ\",\"NM\",\"NY\",\"NC\",\"ND\",\"NV\",\"OH\",\"OK\",\"OR\",\"PA\",\"RI\",\"SC\",\"SD\",\"TN\",\"TX\",\"UT\",\"VT\",\"VA\",\"WA\",\"WV\",\"WI\",\"WY\"]\n",
    "\n",
    "states_iter2= [\"OH\",\"OK\",\"OR\",\"PA\",\"RI\",\"SC\",\"SD\",\"TN\",\"TX\",\"UT\",\"VT\",\"VA\",\"WA\",\"WV\",\"WI\",\"WY\"]\n",
    "\n",
    "for state in states_iter2:\n",
    "    dogs_state=petfinder.animals(animal_type='dog',\n",
    "                  status='adoptable',\n",
    "                  before_date='2022-12-31', \n",
    "                  after_date='2022-01-01',\n",
    "                  location=state,\n",
    "                  pages=None,\n",
    "                  return_df=True)\n",
    "    file_loc = \"../data/adoptable_by_state/dogs/\"+state+\"_2022.csv\"\n",
    "    print(\"file_loc, \", file_loc)\n",
    "    dogs_state.to_csv(file_loc, index=False)"
   ]
  },
  {
   "cell_type": "code",
   "execution_count": 61,
   "metadata": {},
   "outputs": [
    {
     "name": "stdout",
     "output_type": "stream",
     "text": [
      "file_loc,  ../data/adoptable_by_state/cats/OH_2022.csv\n",
      "file_loc,  ../data/adoptable_by_state/cats/OK_2022.csv\n",
      "file_loc,  ../data/adoptable_by_state/cats/OR_2022.csv\n",
      "file_loc,  ../data/adoptable_by_state/cats/PA_2022.csv\n",
      "file_loc,  ../data/adoptable_by_state/cats/RI_2022.csv\n",
      "file_loc,  ../data/adoptable_by_state/cats/SC_2022.csv\n",
      "file_loc,  ../data/adoptable_by_state/cats/SD_2022.csv\n",
      "file_loc,  ../data/adoptable_by_state/cats/TN_2022.csv\n",
      "file_loc,  ../data/adoptable_by_state/cats/TX_2022.csv\n",
      "file_loc,  ../data/adoptable_by_state/cats/UT_2022.csv\n",
      "file_loc,  ../data/adoptable_by_state/cats/VT_2022.csv\n",
      "file_loc,  ../data/adoptable_by_state/cats/VA_2022.csv\n",
      "file_loc,  ../data/adoptable_by_state/cats/WA_2022.csv\n",
      "file_loc,  ../data/adoptable_by_state/cats/WV_2022.csv\n",
      "file_loc,  ../data/adoptable_by_state/cats/WI_2022.csv\n",
      "file_loc,  ../data/adoptable_by_state/cats/WY_2022.csv\n"
     ]
    }
   ],
   "source": [
    "# Removed the following because they don't have any records:\n",
    "# NV\n",
    "#states= [\"AL\",\"AK\",\"AZ\",\"AR\",\"CA\",\"CO\",\"CT\",\"DE\",\"FL\",\"GA\",\"HI\",\"ID\",\"IL\",\"IN\",\"IA\",\"KS\",\"KY\",\"LA\",\"ME\",\"MD\",\"MA\",\"MI\",\"MN\",\"MS\",\"MO\",\"MT\",\"NE\",\"NH\",\"NJ\",\"NM\",\"NY\",\"NC\",\"ND\",\"NV\",\"OH\",\"OK\",\"OR\",\"PA\",\"RI\",\"SC\",\"SD\",\"TN\",\"TX\",\"UT\",\"VT\",\"VA\",\"WA\",\"WV\",\"WI\",\"WY\"]\n",
    "\n",
    "states_iter2= [\"OH\",\"OK\",\"OR\",\"PA\",\"RI\",\"SC\",\"SD\",\"TN\",\"TX\",\"UT\",\"VT\",\"VA\",\"WA\",\"WV\",\"WI\",\"WY\"]\n",
    "\n",
    "for state in states_iter2:\n",
    "    cats_state=petfinder.animals(animal_type='cat',\n",
    "                  status='adoptable',\n",
    "                  before_date='2022-12-31', \n",
    "                  after_date='2022-01-01',\n",
    "                  location=state,\n",
    "                  pages=None,\n",
    "                  return_df=True)\n",
    "    file_loc = \"../data/adoptable_by_state/cats/\"+state+\"_2022.csv\"\n",
    "    print(\"file_loc, \", file_loc)\n",
    "    cats_state.to_csv(file_loc, index=False)"
   ]
  },
  {
   "cell_type": "code",
   "execution_count": 62,
   "metadata": {},
   "outputs": [
    {
     "name": "stdout",
     "output_type": "stream",
     "text": [
      "file:  CO_2022.csv\n",
      "file:  AR_2022.csv\n",
      "file:  NE_2022.csv\n",
      "file:  ND_2022.csv\n",
      "file:  MA_2022.csv\n",
      "file:  TX_2022.csv\n",
      "file:  WV_2022.csv\n",
      "file:  WI_2022.csv\n",
      "file:  UT_2022.csv\n",
      "file:  AL_2022.csv\n",
      "file:  MT_2022.csv\n",
      "file:  OH_2022.csv\n",
      "file:  HI_2022.csv\n",
      "file:  LA_2022.csv\n",
      "file:  MS_2022.csv\n",
      "file:  FL_2022.csv\n",
      "file:  ID_2022.csv\n",
      "file:  KY_2022.csv\n",
      "file:  NC_2022.csv\n",
      "file:  GA_2022.csv\n",
      "file:  DE_2022.csv\n",
      "file:  KS_2022.csv\n",
      "file:  IN_2022.csv\n",
      "file:  NH_2022.csv\n",
      "file:  WA_2022.csv\n",
      "file:  NY_2022.csv\n",
      "file:  TN_2022.csv\n",
      "file:  OK_2022.csv\n",
      "file:  SC_2022.csv\n",
      "file:  NM_2022.csv\n",
      "file:  AZ_2022.csv\n",
      "file:  IA_2022.csv\n",
      "file:  MI_2022.csv\n",
      "file:  ME_2022.csv\n",
      "file:  RI_2022.csv\n",
      "file:  MD_2022.csv\n",
      "file:  VA_2022.csv\n",
      "file:  IL_2022.csv\n",
      "file:  NJ_2022.csv\n",
      "file:  CA_2022.csv\n",
      "file:  MO_2022.csv\n",
      "file:  MN_2022.csv\n",
      "file:  OR_2022.csv\n",
      "file:  WY_2022.csv\n",
      "file:  CT_2022.csv\n",
      "file:  VT_2022.csv\n",
      "file:  PA_2022.csv\n",
      "file:  SD_2022.csv\n",
      "(25453, 50)\n"
     ]
    }
   ],
   "source": [
    "# Combine all the DOG csvs for each individual state into one csv\n",
    "\n",
    "# specify the directory path\n",
    "dir_path = \"../data/adoptable_by_state/dogs\"\n",
    "\n",
    "# get a list of files in the directory\n",
    "files = os.listdir(dir_path)\n",
    "\n",
    "dogs_combined_df = pd.DataFrame()\n",
    "\n",
    "# for each file in the directory, create a temporary dataframe and concat it to the dogs_combined_df\n",
    "for file in files:\n",
    "    print('file: ', file)\n",
    "    file_loc = dir_path + \"/\" + file\n",
    "    df = pd.read_csv(file_loc)\n",
    "    dogs_combined_df = pd.concat([dogs_combined_df, df])\n",
    "\n",
    "print(dogs_combined_df.shape)\n",
    "\n",
    "# write the combined df to a csv file\n",
    "dogs_combined_df.to_csv(\"../data/combined/adoptable_dogs_jantodec.csv\", index=False)"
   ]
  },
  {
   "cell_type": "code",
   "execution_count": 63,
   "metadata": {},
   "outputs": [
    {
     "name": "stdout",
     "output_type": "stream",
     "text": [
      "file:  CO_2022.csv\n",
      "file:  AR_2022.csv\n",
      "file:  NE_2022.csv\n",
      "file:  ND_2022.csv\n",
      "file:  MA_2022.csv\n",
      "file:  TX_2022.csv\n",
      "file:  WV_2022.csv\n",
      "file:  WI_2022.csv\n",
      "file:  UT_2022.csv\n",
      "file:  AL_2022.csv\n",
      "file:  MT_2022.csv\n",
      "file:  OH_2022.csv\n",
      "file:  HI_2022.csv\n",
      "file:  AK_2022.csv\n",
      "file:  LA_2022.csv\n",
      "file:  MS_2022.csv\n",
      "file:  FL_2022.csv\n",
      "file:  ID_2022.csv\n",
      "file:  KY_2022.csv\n",
      "file:  NC_2022.csv\n",
      "file:  GA_2022.csv\n",
      "file:  DE_2022.csv\n",
      "file:  KS_2022.csv\n",
      "file:  IN_2022.csv\n",
      "file:  NH_2022.csv\n",
      "file:  WA_2022.csv\n",
      "file:  NY_2022.csv\n",
      "file:  TN_2022.csv\n",
      "file:  OK_2022.csv\n",
      "file:  SC_2022.csv\n",
      "file:  NM_2022.csv\n",
      "file:  AZ_2022.csv\n",
      "file:  IA_2022.csv\n",
      "file:  MI_2022.csv\n",
      "file:  ME_2022.csv\n",
      "file:  RI_2022.csv\n",
      "file:  MD_2022.csv\n",
      "file:  VA_2022.csv\n",
      "file:  IL_2022.csv\n",
      "file:  NJ_2022.csv\n",
      "file:  CA_2022.csv\n",
      "file:  MO_2022.csv\n",
      "file:  MN_2022.csv\n",
      "file:  OR_2022.csv\n",
      "file:  WY_2022.csv\n",
      "file:  CT_2022.csv\n",
      "file:  VT_2022.csv\n",
      "file:  PA_2022.csv\n",
      "file:  SD_2022.csv\n",
      "(24737, 50)\n"
     ]
    }
   ],
   "source": [
    "# Combine all the DOG csvs for each individual state into one csv\n",
    "\n",
    "# specify the directory path\n",
    "dir_path = \"../data/adoptable_by_state/cats\"\n",
    "\n",
    "# get a list of files in the directory\n",
    "files = os.listdir(dir_path)\n",
    "\n",
    "cats_combined_df = pd.DataFrame()\n",
    "\n",
    "# for each file in the directory, create a temporary dataframe and concat it to the dogs_combined_df\n",
    "for file in files:\n",
    "    print('file: ', file)\n",
    "    file_loc = dir_path + \"/\" + file\n",
    "    df = pd.read_csv(file_loc)\n",
    "    cats_combined_df = pd.concat([cats_combined_df, df])\n",
    "\n",
    "print(cats_combined_df.shape)\n",
    "\n",
    "# write the combined df to a csv file\n",
    "cats_combined_df.to_csv(\"../data/combined/adoptable_cats_jantodec.csv\", index=False)"
   ]
  },
  {
   "cell_type": "code",
   "execution_count": 64,
   "metadata": {},
   "outputs": [
    {
     "name": "stderr",
     "output_type": "stream",
     "text": [
      "/var/folders/js/_m5r698x29j4dvr0w18h6jdm0000gn/T/ipykernel_9594/3249071198.py:2: DtypeWarning: Columns (44) have mixed types. Specify dtype option on import or set low_memory=False.\n",
      "  dogs_adoptable = pd.read_csv('../data/combined/adoptable_dogs_jantodec.csv')\n"
     ]
    }
   ],
   "source": [
    "# Read in the combined dog csv and combined cat csv\n",
    "dogs_adoptable = pd.read_csv('../data/combined/adoptable_dogs_jantodec.csv')\n",
    "cats_adoptable = pd.read_csv('../data/combined/adoptable_cats_jantodec.csv')"
   ]
  },
  {
   "cell_type": "code",
   "execution_count": 65,
   "metadata": {},
   "outputs": [
    {
     "name": "stdout",
     "output_type": "stream",
     "text": [
      "(25453, 50)\n",
      "Index(['id', 'organization_id', 'url', 'type', 'species', 'age', 'gender',\n",
      "       'size', 'coat', 'tags', 'name', 'description', 'organization_animal_id',\n",
      "       'photos', 'videos', 'status', 'status_changed_at', 'published_at',\n",
      "       'distance', 'breeds.primary', 'breeds.secondary', 'breeds.mixed',\n",
      "       'breeds.unknown', 'colors.primary', 'colors.secondary',\n",
      "       'colors.tertiary', 'attributes.spayed_neutered',\n",
      "       'attributes.house_trained', 'attributes.declawed',\n",
      "       'attributes.special_needs', 'attributes.shots_current',\n",
      "       'environment.children', 'environment.dogs', 'environment.cats',\n",
      "       'primary_photo_cropped.small', 'primary_photo_cropped.medium',\n",
      "       'primary_photo_cropped.large', 'primary_photo_cropped.full',\n",
      "       'contact.email', 'contact.phone', 'contact.address.address1',\n",
      "       'contact.address.address2', 'contact.address.city',\n",
      "       'contact.address.state', 'contact.address.postcode',\n",
      "       'contact.address.country', 'animal_id', 'animal_type',\n",
      "       'organization_id.1', 'primary_photo_cropped'],\n",
      "      dtype='object')\n"
     ]
    }
   ],
   "source": [
    "print(dogs_adoptable.shape)\n",
    "print(dogs_adoptable.columns)"
   ]
  },
  {
   "cell_type": "code",
   "execution_count": 66,
   "metadata": {},
   "outputs": [
    {
     "name": "stdout",
     "output_type": "stream",
     "text": [
      "(24737, 50)\n",
      "Index(['id', 'organization_id', 'url', 'type', 'species', 'age', 'gender',\n",
      "       'size', 'coat', 'tags', 'name', 'description', 'organization_animal_id',\n",
      "       'photos', 'videos', 'status', 'status_changed_at', 'published_at',\n",
      "       'distance', 'breeds.primary', 'breeds.secondary', 'breeds.mixed',\n",
      "       'breeds.unknown', 'colors.primary', 'colors.secondary',\n",
      "       'colors.tertiary', 'attributes.spayed_neutered',\n",
      "       'attributes.house_trained', 'attributes.declawed',\n",
      "       'attributes.special_needs', 'attributes.shots_current',\n",
      "       'environment.children', 'environment.dogs', 'environment.cats',\n",
      "       'primary_photo_cropped.small', 'primary_photo_cropped.medium',\n",
      "       'primary_photo_cropped.large', 'primary_photo_cropped.full',\n",
      "       'contact.email', 'contact.phone', 'contact.address.address1',\n",
      "       'contact.address.address2', 'contact.address.city',\n",
      "       'contact.address.state', 'contact.address.postcode',\n",
      "       'contact.address.country', 'animal_id', 'animal_type',\n",
      "       'organization_id.1', 'primary_photo_cropped'],\n",
      "      dtype='object')\n"
     ]
    }
   ],
   "source": [
    "print(cats_adoptable.shape)\n",
    "print(cats_adoptable.columns)"
   ]
  },
  {
   "cell_type": "code",
   "execution_count": 67,
   "metadata": {},
   "outputs": [
    {
     "name": "stdout",
     "output_type": "stream",
     "text": [
      "(50190, 50)\n"
     ]
    }
   ],
   "source": [
    "# Combine the dogs and cats dataframes\n",
    "df_combined_adoptable = pd.concat([dogs_adoptable, cats_adoptable])\n",
    "print(df_combined_adoptable.shape)"
   ]
  },
  {
   "cell_type": "code",
   "execution_count": 68,
   "metadata": {},
   "outputs": [],
   "source": [
    "# Change the published_at and status_changed at columns to datetime\n",
    "df_combined_adoptable['published_at']=pd.to_datetime(df_combined_adoptable['published_at'])\n",
    "df_combined_adoptable['status_changed_at']=pd.to_datetime(df_combined_adoptable['status_changed_at'])"
   ]
  },
  {
   "cell_type": "code",
   "execution_count": 69,
   "metadata": {},
   "outputs": [],
   "source": [
    "# Caluclate the days_in_shelter column\n",
    "df_combined_adoptable['days_in_shelter']=df_combined_adoptable['status_changed_at']-df_combined_adoptable['published_at']\n",
    "df_combined_adoptable['days_in_shelter']=df_combined_adoptable['days_in_shelter']/np.timedelta64(1,'D')\n",
    "df_combined_adoptable['days_in_shelter']=df_combined_adoptable['days_in_shelter'].round()"
   ]
  },
  {
   "cell_type": "code",
   "execution_count": 70,
   "metadata": {},
   "outputs": [
    {
     "data": {
      "text/plain": [
       "(50190, 51)"
      ]
     },
     "execution_count": 70,
     "metadata": {},
     "output_type": "execute_result"
    }
   ],
   "source": [
    "df_combined_adoptable.shape"
   ]
  },
  {
   "cell_type": "code",
   "execution_count": 71,
   "metadata": {},
   "outputs": [
    {
     "name": "stdout",
     "output_type": "stream",
     "text": [
      "(35136, 51)\n"
     ]
    }
   ],
   "source": [
    "df_combined_adoptable.drop_duplicates(subset=['id'], inplace=True)\n",
    "print(df_combined_adoptable.shape)"
   ]
  },
  {
   "cell_type": "code",
   "execution_count": 72,
   "metadata": {},
   "outputs": [
    {
     "name": "stdout",
     "output_type": "stream",
     "text": [
      "(35136, 28)\n"
     ]
    }
   ],
   "source": [
    "df_combined_adoptable = df_combined_adoptable[['id', 'type', 'species', 'age', 'gender', 'size', 'coat', 'tags', 'name', 'description', 'status', \n",
    "         'published_at', 'status_changed_at', 'days_in_shelter', 'breeds.primary', 'breeds.secondary', 'breeds.mixed', 'breeds.unknown',\n",
    "         'colors.primary', 'attributes.spayed_neutered', 'attributes.house_trained', 'attributes.special_needs', \n",
    "         'attributes.shots_current', 'environment.dogs', 'contact.address.city',\n",
    "       'contact.address.state', 'contact.address.postcode',\n",
    "       'contact.address.country']]\n",
    "print(df_combined_adoptable.shape)"
   ]
  },
  {
   "cell_type": "code",
   "execution_count": 73,
   "metadata": {},
   "outputs": [],
   "source": [
    "df_combined_adoptable['breed'] = ''\n",
    "# Extract primary and secondary breed from 'breeds' column\n",
    "for i, row in df_combined_adoptable.iterrows():\n",
    "    primary_breed = row['breeds.primary']\n",
    "    secondary_breed = row['breeds.secondary']\n",
    "    mixed = row['breeds.mixed']\n",
    "    unknown_breed = row['breeds.unknown']\n",
    "    \n",
    "    if mixed:\n",
    "        df_combined_adoptable.at[i, 'breed'] = 'Mixed'\n",
    "    elif pd.notna(primary_breed):\n",
    "        df_combined_adoptable.at[i, 'breed'] = primary_breed\n",
    "    elif pd.notna(unknown_breed):\n",
    "        df_combined_adoptable.at[i, 'breed'] = unknown_breed\n",
    "    elif pd.notna(secondary_breed):\n",
    "        df_combined_adoptable.at[i, 'breed'] = secondary_breed\n",
    "    else:\n",
    "        df_combined_adoptable.at[i, 'breed'] = 'Unknown'"
   ]
  },
  {
   "cell_type": "code",
   "execution_count": 74,
   "metadata": {},
   "outputs": [
    {
     "data": {
      "text/plain": [
       "(35136, 29)"
      ]
     },
     "execution_count": 74,
     "metadata": {},
     "output_type": "execute_result"
    }
   ],
   "source": [
    "df_combined_adoptable.shape"
   ]
  },
  {
   "cell_type": "code",
   "execution_count": 75,
   "metadata": {},
   "outputs": [],
   "source": [
    "df_combined_adoptable = df_combined_adoptable[['id', 'type', 'species', 'age', 'gender', 'size', 'coat', 'tags', 'name', 'description', 'status', \n",
    "         'published_at', 'status_changed_at', 'days_in_shelter', 'breed',\n",
    "         'colors.primary', 'attributes.spayed_neutered', 'attributes.house_trained', 'attributes.special_needs', \n",
    "         'attributes.shots_current', 'environment.dogs', 'contact.address.city',\n",
    "       'contact.address.state', 'contact.address.postcode',\n",
    "       'contact.address.country']]"
   ]
  },
  {
   "cell_type": "code",
   "execution_count": 76,
   "metadata": {},
   "outputs": [
    {
     "data": {
      "text/plain": [
       "(35136, 25)"
      ]
     },
     "execution_count": 76,
     "metadata": {},
     "output_type": "execute_result"
    }
   ],
   "source": [
    "df_combined_adoptable.shape"
   ]
  },
  {
   "cell_type": "code",
   "execution_count": null,
   "metadata": {},
   "outputs": [],
   "source": [
    "df_combined_adoptable.to_csv('../data/combined/us_all_jantodec_adoptable_dogsANDcats.csv', index=False)"
   ]
  }
 ],
 "metadata": {
  "kernelspec": {
   "display_name": "adopted_pets_analysis",
   "language": "python",
   "name": "python3"
  },
  "language_info": {
   "codemirror_mode": {
    "name": "ipython",
    "version": 3
   },
   "file_extension": ".py",
   "mimetype": "text/x-python",
   "name": "python",
   "nbconvert_exporter": "python",
   "pygments_lexer": "ipython3",
   "version": "3.10.9"
  },
  "vscode": {
   "interpreter": {
    "hash": "2b002f3cd4c0bef375964b03e92db0ba8a55b0835319c23cc04b07138ef346f1"
   }
  }
 },
 "nbformat": 4,
 "nbformat_minor": 2
}
