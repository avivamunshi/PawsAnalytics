{
 "cells": [
  {
   "cell_type": "code",
   "execution_count": 1,
   "metadata": {},
   "outputs": [],
   "source": [
    "import pandas as pd"
   ]
  },
  {
   "cell_type": "code",
   "execution_count": 11,
   "metadata": {},
   "outputs": [],
   "source": [
    "# Read in the full adoptable dataset\n",
    "adoptable = pd.read_csv('../data/combined/us_all_jantodec_adoptable_dogsANDcats_v2.csv')"
   ]
  },
  {
   "cell_type": "code",
   "execution_count": 12,
   "metadata": {},
   "outputs": [
    {
     "name": "stdout",
     "output_type": "stream",
     "text": [
      "(38664, 25)\n",
      "Index(['id', 'type', 'species', 'age', 'gender', 'size', 'coat', 'tags',\n",
      "       'name', 'description', 'status', 'published_at', 'status_changed_at',\n",
      "       'days_in_shelter', 'breed', 'colors.primary',\n",
      "       'attributes.spayed_neutered', 'attributes.house_trained',\n",
      "       'attributes.special_needs', 'attributes.shots_current',\n",
      "       'environment.dogs', 'contact.address.city', 'contact.address.state',\n",
      "       'contact.address.postcode', 'contact.address.country'],\n",
      "      dtype='object')\n",
      "['adoptable']\n"
     ]
    }
   ],
   "source": [
    "# Print the shape of the imported file\n",
    "print(adoptable.shape)\n",
    "print(adoptable.columns)\n",
    "print(adoptable['status'].unique())"
   ]
  },
  {
   "cell_type": "code",
   "execution_count": 13,
   "metadata": {},
   "outputs": [
    {
     "name": "stdout",
     "output_type": "stream",
     "text": [
      "min value in published_at column:  2022-01-01 15:46:30+00:00\n",
      "max value in published_at column:  2022-12-31 07:45:31+00:00\n"
     ]
    }
   ],
   "source": [
    "# make sure the max value in the published_at column is less than Dec 31, 2022\n",
    "min_published_at = adoptable['published_at'].min()\n",
    "max_published_at = adoptable['published_at'].max()\n",
    "print(\"min value in published_at column: \", min_published_at)\n",
    "print(\"max value in published_at column: \", max_published_at)"
   ]
  },
  {
   "cell_type": "code",
   "execution_count": 14,
   "metadata": {},
   "outputs": [
    {
     "name": "stdout",
     "output_type": "stream",
     "text": [
      "type\n",
      "Cat    18736\n",
      "Dog    19928\n",
      "Name: id, dtype: int64\n"
     ]
    }
   ],
   "source": [
    "# Group by Type\n",
    "by_type = adoptable.groupby('type')['id'].count()\n",
    "print(by_type)"
   ]
  },
  {
   "cell_type": "code",
   "execution_count": 15,
   "metadata": {},
   "outputs": [
    {
     "name": "stdout",
     "output_type": "stream",
     "text": [
      "status\n",
      "adoptable    38664\n",
      "Name: id, dtype: int64\n"
     ]
    }
   ],
   "source": [
    "# Group by status\n",
    "by_status = adoptable.groupby('status')['id'].count()\n",
    "print(by_status)"
   ]
  },
  {
   "cell_type": "markdown",
   "metadata": {},
   "source": []
  }
 ],
 "metadata": {
  "kernelspec": {
   "display_name": "adopted_pets_analysis",
   "language": "python",
   "name": "python3"
  },
  "language_info": {
   "codemirror_mode": {
    "name": "ipython",
    "version": 3
   },
   "file_extension": ".py",
   "mimetype": "text/x-python",
   "name": "python",
   "nbconvert_exporter": "python",
   "pygments_lexer": "ipython3",
   "version": "3.10.9"
  },
  "orig_nbformat": 4
 },
 "nbformat": 4,
 "nbformat_minor": 2
}
