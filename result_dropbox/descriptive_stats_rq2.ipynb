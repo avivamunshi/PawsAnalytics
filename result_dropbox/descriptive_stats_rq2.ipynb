{
 "cells": [
  {
   "cell_type": "code",
   "execution_count": 3,
   "id": "3cf68317",
   "metadata": {},
   "outputs": [],
   "source": [
    "import csv\n",
    "import pandas as pd"
   ]
  },
  {
   "cell_type": "code",
   "execution_count": 5,
   "id": "973ccf99",
   "metadata": {},
   "outputs": [],
   "source": [
    "df = pd.read_csv('/Users/aviva/Downloads/jantodec_3regs_adopted_dogsANDcats (1).csv', low_memory=False)"
   ]
  },
  {
   "cell_type": "code",
   "execution_count": 6,
   "id": "256f0c78",
   "metadata": {},
   "outputs": [],
   "source": [
    "# Drop duplicates based on ID\n",
    "df.drop_duplicates(subset=['id'], inplace=True)"
   ]
  },
  {
   "cell_type": "code",
   "execution_count": 8,
   "id": "222a5d2e",
   "metadata": {},
   "outputs": [
    {
     "name": "stdout",
     "output_type": "stream",
     "text": [
      "Mean days on Petfinder: 34.23\n",
      "Median days on Petfinder: 18.00\n",
      "Standard deviation of days on Petfinder: 46.42\n"
     ]
    }
   ],
   "source": [
    "#Mean, median, and standard deviation of the days spent on Petfinder before adoption\n",
    "mean_days = df['days_in_shelter'].mean()\n",
    "median_days = df['days_in_shelter'].median()\n",
    "std_days = df['days_in_shelter'].std()\n",
    "\n",
    "print(f\"Mean days on Petfinder: {mean_days:.2f}\")\n",
    "print(f\"Median days on Petfinder: {median_days:.2f}\")\n",
    "print(f\"Standard deviation of days on Petfinder: {std_days:.2f}\")"
   ]
  },
  {
   "cell_type": "code",
   "execution_count": 9,
   "id": "30e03aef",
   "metadata": {},
   "outputs": [
    {
     "name": "stdout",
     "output_type": "stream",
     "text": [
      "Mean days in shelter for dogs: 33.77\n",
      "Median days in shelter for dogs: 18.00\n",
      "Standard deviation of days in shelter for dogs: 46.12\n",
      "Mean days in shelter for cats: 34.83\n",
      "Median days in shelter for cats: 18.00\n",
      "Standard deviation of days in shelter for cats: 46.79\n"
     ]
    }
   ],
   "source": [
    "# Split dataframe into dogs and cats\n",
    "dogs_df = df[df['type'] == 'Dog']\n",
    "cats_df = df[df['type'] == 'Cat']\n",
    "\n",
    "# Compute mean, median, and standard deviation for days on Petfinder for dogs\n",
    "dogs_mean = dogs_df['days_in_shelter'].mean()\n",
    "dogs_median = dogs_df['days_in_shelter'].median()\n",
    "dogs_std = dogs_df['days_in_shelter'].std()\n",
    "\n",
    "print(f\"Mean days in shelter for dogs: {dogs_mean:.2f}\")\n",
    "print(f\"Median days in shelter for dogs: {dogs_median:.2f}\")\n",
    "print(f\"Standard deviation of days in shelter for dogs: {dogs_std:.2f}\")\n",
    "\n",
    "# Compute mean, median, and standard deviation for days on Petfinder for cats\n",
    "cats_mean = cats_df['days_in_shelter'].mean()\n",
    "cats_median = cats_df['days_in_shelter'].median()\n",
    "cats_std = cats_df['days_in_shelter'].std()\n",
    "\n",
    "print(f\"Mean days in shelter for cats: {cats_mean:.2f}\")\n",
    "print(f\"Median days in shelter for cats: {cats_median:.2f}\")\n",
    "print(f\"Standard deviation of days in shelter for cats: {cats_std:.2f}\")"
   ]
  },
  {
   "cell_type": "code",
   "execution_count": null,
   "id": "6144dff8",
   "metadata": {},
   "outputs": [],
   "source": []
  }
 ],
 "metadata": {
  "kernelspec": {
   "display_name": "Python 3 (ipykernel)",
   "language": "python",
   "name": "python3"
  },
  "language_info": {
   "codemirror_mode": {
    "name": "ipython",
    "version": 3
   },
   "file_extension": ".py",
   "mimetype": "text/x-python",
   "name": "python",
   "nbconvert_exporter": "python",
   "pygments_lexer": "ipython3",
   "version": "3.9.12"
  }
 },
 "nbformat": 4,
 "nbformat_minor": 5
}
